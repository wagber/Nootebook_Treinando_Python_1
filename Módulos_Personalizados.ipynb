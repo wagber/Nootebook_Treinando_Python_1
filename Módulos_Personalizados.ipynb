{
  "nbformat": 4,
  "nbformat_minor": 0,
  "metadata": {
    "colab": {
      "name": "Módulos Personalizados.ipynb",
      "provenance": [],
      "authorship_tag": "ABX9TyPjOF0K3hVg5YnG3jyci1s8",
      "include_colab_link": true
    },
    "kernelspec": {
      "name": "python3",
      "display_name": "Python 3"
    },
    "language_info": {
      "name": "python"
    }
  },
  "cells": [
    {
      "cell_type": "markdown",
      "metadata": {
        "id": "view-in-github",
        "colab_type": "text"
      },
      "source": [
        "<a href=\"https://colab.research.google.com/github/wagber/Nootebook_Treinando_Python_1/blob/main/M%C3%B3dulos_Personalizados.ipynb\" target=\"_parent\"><img src=\"https://colab.research.google.com/assets/colab-badge.svg\" alt=\"Open In Colab\"/></a>"
      ]
    },
    {
      "cell_type": "markdown",
      "source": [
        "##Módulos Personalizados"
      ],
      "metadata": {
        "id": "4xtPGseNsATi"
      }
    },
    {
      "cell_type": "code",
      "source": [
        "#Importando uma função criada por mim no Spider\n",
        "'''\n",
        "def soma(a, b, c):\n",
        "    somatorio = a + b + c\n",
        "    return somatorio\n",
        "\n",
        "def mult(a, b, c):\n",
        "    multiplicacao = a * b * c\n",
        "    return multiplicacao\n",
        "\n",
        "def isPalindromo(string):\n",
        "    if string == string [::-1]:\n",
        "        return True\n",
        "    else:\n",
        "        return False\n",
        "\n",
        "def divisao(a, b):\n",
        "    return a / b\n",
        "\n",
        "'''\n",
        "import utilitarios as ut"
      ],
      "metadata": {
        "id": "aCRQp6iIsCsz"
      },
      "execution_count": 1,
      "outputs": []
    },
    {
      "cell_type": "code",
      "source": [
        "ut.soma(1, 2, 3)"
      ],
      "metadata": {
        "colab": {
          "base_uri": "https://localhost:8080/"
        },
        "id": "irjvYmNPtF4g",
        "outputId": "cbeecfcd-4c19-4551-ce3e-9f84d5eab928"
      },
      "execution_count": 2,
      "outputs": [
        {
          "output_type": "execute_result",
          "data": {
            "text/plain": [
              "6"
            ]
          },
          "metadata": {},
          "execution_count": 2
        }
      ]
    },
    {
      "cell_type": "code",
      "source": [
        "ut.mult(3, 2, 2)"
      ],
      "metadata": {
        "colab": {
          "base_uri": "https://localhost:8080/"
        },
        "id": "d-7KmLbktxDB",
        "outputId": "55e051f6-3a3e-4534-8223-a2d70d1e63f9"
      },
      "execution_count": 3,
      "outputs": [
        {
          "output_type": "execute_result",
          "data": {
            "text/plain": [
              "12"
            ]
          },
          "metadata": {},
          "execution_count": 3
        }
      ]
    },
    {
      "cell_type": "code",
      "source": [
        "ut.isPalindromo('abc')"
      ],
      "metadata": {
        "colab": {
          "base_uri": "https://localhost:8080/"
        },
        "id": "_9dRvEzHt9MI",
        "outputId": "38c8f5c2-c220-4a43-b059-4197b44408c6"
      },
      "execution_count": 4,
      "outputs": [
        {
          "output_type": "execute_result",
          "data": {
            "text/plain": [
              "False"
            ]
          },
          "metadata": {},
          "execution_count": 4
        }
      ]
    },
    {
      "cell_type": "code",
      "source": [
        "ut.isPalindromo('abccba')"
      ],
      "metadata": {
        "colab": {
          "base_uri": "https://localhost:8080/"
        },
        "id": "6yy1r-ituFvB",
        "outputId": "9c5133ff-0b48-4352-d5c1-665d050d02f7"
      },
      "execution_count": 5,
      "outputs": [
        {
          "output_type": "execute_result",
          "data": {
            "text/plain": [
              "True"
            ]
          },
          "metadata": {},
          "execution_count": 5
        }
      ]
    },
    {
      "cell_type": "code",
      "source": [
        "t = 'abccba'"
      ],
      "metadata": {
        "id": "NmfxRFxRuWLf"
      },
      "execution_count": 6,
      "outputs": []
    },
    {
      "cell_type": "code",
      "source": [
        "#Aqui usamos a notação de índice e fatia, capturando todos os elementos e retornando de trás para frente.\n",
        "#Técnica ideal para identificar se uma string é um palindromo.\n",
        "#os dois primeiro pontos [:] indica que o texto começa do início\n",
        "#Os outros dois pontos [::] indica que o texto termina no fim\n",
        "# e o -1 que ele vai ser lido de trás pra frente.\n",
        "t[::-1]"
      ],
      "metadata": {
        "colab": {
          "base_uri": "https://localhost:8080/",
          "height": 35
        },
        "id": "dM82O7auubEB",
        "outputId": "a1bbfdf2-02c4-48dc-d3f1-5abfa2a6f5a0"
      },
      "execution_count": 7,
      "outputs": [
        {
          "output_type": "execute_result",
          "data": {
            "text/plain": [
              "'abccba'"
            ],
            "application/vnd.google.colaboratory.intrinsic+json": {
              "type": "string"
            }
          },
          "metadata": {},
          "execution_count": 7
        }
      ]
    },
    {
      "cell_type": "code",
      "source": [
        "t1 = 'abc'"
      ],
      "metadata": {
        "id": "WFi3gelLujA_"
      },
      "execution_count": 8,
      "outputs": []
    },
    {
      "cell_type": "code",
      "source": [
        "t1[::-1]"
      ],
      "metadata": {
        "colab": {
          "base_uri": "https://localhost:8080/",
          "height": 35
        },
        "id": "8KQoizapuljC",
        "outputId": "7bcfb6d8-922d-451c-f371-38b6128ffcee"
      },
      "execution_count": 9,
      "outputs": [
        {
          "output_type": "execute_result",
          "data": {
            "text/plain": [
              "'cba'"
            ],
            "application/vnd.google.colaboratory.intrinsic+json": {
              "type": "string"
            }
          },
          "metadata": {},
          "execution_count": 9
        }
      ]
    },
    {
      "cell_type": "code",
      "source": [
        "ut.divisao(10, 2)"
      ],
      "metadata": {
        "colab": {
          "base_uri": "https://localhost:8080/"
        },
        "id": "AHU_YZsuu_VY",
        "outputId": "deb13a1c-4b13-45cc-ecb4-c4843008f16f"
      },
      "execution_count": 10,
      "outputs": [
        {
          "output_type": "execute_result",
          "data": {
            "text/plain": [
              "5.0"
            ]
          },
          "metadata": {},
          "execution_count": 10
        }
      ]
    }
  ]
}