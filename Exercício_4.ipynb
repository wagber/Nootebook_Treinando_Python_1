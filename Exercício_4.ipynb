{
  "nbformat": 4,
  "nbformat_minor": 0,
  "metadata": {
    "colab": {
      "name": "Exercício_4.ipynb",
      "provenance": [],
      "authorship_tag": "ABX9TyOSpoyNYdaOqYcK9UDFBsbg",
      "include_colab_link": true
    },
    "kernelspec": {
      "name": "python3",
      "display_name": "Python 3"
    },
    "language_info": {
      "name": "python"
    }
  },
  "cells": [
    {
      "cell_type": "markdown",
      "metadata": {
        "id": "view-in-github",
        "colab_type": "text"
      },
      "source": [
        "<a href=\"https://colab.research.google.com/github/wagber/Nootebook_Treinando_Python_1/blob/main/Exerc%C3%ADcio_4.ipynb\" target=\"_parent\"><img src=\"https://colab.research.google.com/assets/colab-badge.svg\" alt=\"Open In Colab\"/></a>"
      ]
    },
    {
      "cell_type": "markdown",
      "source": [
        "1 - Lista: Crie uma estrutura de repetição para fazer a leitura de 5 números inteiros e os armazene dentro de uma lista. Após a leitura, crie outra estrutura de repetição para somar todos os valores digitados."
      ],
      "metadata": {
        "id": "Z6xlpa-VnqMZ"
      }
    },
    {
      "cell_type": "code",
      "source": [
        "#Forma 1\n",
        "\n",
        "#Criando uma lista vazia\n",
        "lista = []\n",
        "#Criando uma estrutura de repetição para inserir valores dentro de uma lista\n",
        "for i in range(5):\n",
        "  numero = int(input(f'Digite o {i + 1}º número: '))\n",
        "  lista.append(numero)\n",
        "print(lista)"
      ],
      "metadata": {
        "colab": {
          "base_uri": "https://localhost:8080/"
        },
        "id": "ws2fGMo_oDHa",
        "outputId": "2f34e30d-cf63-492e-d235-5c8111995c24"
      },
      "execution_count": 128,
      "outputs": [
        {
          "output_type": "stream",
          "name": "stdout",
          "text": [
            "Digite o 1º número: 1\n",
            "Digite o 2º número: 2\n",
            "Digite o 3º número: 3\n",
            "Digite o 4º número: 4\n",
            "Digite o 5º número: 5\n",
            "[1, 2, 3, 4, 5]\n"
          ]
        }
      ]
    },
    {
      "cell_type": "code",
      "source": [
        "#Forma 2\n",
        "\n",
        "#Ou podemos fazer o mesmo for acima dessa forma:\n",
        "#Criando uma lista vazia\n",
        "lista2 = []\n",
        "#Criando uma estrutura de repetição para inserir valores dentro de uma lista\n",
        "for i in range(1, 6):\n",
        "  numero = int(input(f'Digite o {i}º número: '))\n",
        "  lista2.append(numero)\n",
        "print(lista2)"
      ],
      "metadata": {
        "colab": {
          "base_uri": "https://localhost:8080/"
        },
        "id": "mCKG-OF6ZFR7",
        "outputId": "a53baa68-a961-4522-8712-2a671d054de9"
      },
      "execution_count": 129,
      "outputs": [
        {
          "output_type": "stream",
          "name": "stdout",
          "text": [
            "Digite o 1º número: 9\n",
            "Digite o 2º número: 8\n",
            "Digite o 3º número: 7\n",
            "Digite o 4º número: 6\n",
            "Digite o 5º número: 5\n",
            "[9, 8, 7, 6, 5]\n"
          ]
        }
      ]
    },
    {
      "cell_type": "code",
      "source": [
        "#Forma 1\n",
        "\n",
        "print(f'Os valores da lista são {lista}')\n",
        "soma = 0\n",
        "#Criando estrutura de repetição para somar todos os valores de uma lista\n",
        "for numeros in lista:\n",
        "  soma += numeros  \n",
        "print(f'A soma da lista é = {soma}')"
      ],
      "metadata": {
        "colab": {
          "base_uri": "https://localhost:8080/"
        },
        "id": "dJMLYBxotchS",
        "outputId": "4eeef758-2885-4e8d-b6e0-aa67238ece1b"
      },
      "execution_count": 40,
      "outputs": [
        {
          "output_type": "stream",
          "name": "stdout",
          "text": [
            "Os valores da lista são [1, 2, 3, 4, 5]\n",
            "A soma da lista é = 15\n"
          ]
        }
      ]
    },
    {
      "cell_type": "code",
      "source": [
        "#Forma 2\n",
        "\n",
        "#Ou podemos fazer a soma dos números com o for sendo feito assim:\n",
        "print(f'Os valores da lista são {lista2}')\n",
        "soma2 = 0\n",
        "#Criando estrutura de repetição usando o tamanho da lista com a função len para somar todos os valores de uma lista\n",
        "for numeros in range(len(lista2)):\n",
        "  soma2 += lista2[numeros]  \n",
        "print(f'A soma da lista é = {soma2}')"
      ],
      "metadata": {
        "colab": {
          "base_uri": "https://localhost:8080/"
        },
        "id": "N1htb-u0ZhgX",
        "outputId": "4c3a339b-ab8d-4a1e-f223-14fe220d4756"
      },
      "execution_count": 134,
      "outputs": [
        {
          "output_type": "stream",
          "name": "stdout",
          "text": [
            "Os valores da lista são [9, 8, 7, 6, 5]\n",
            "A soma da lista é = 35\n"
          ]
        }
      ]
    },
    {
      "cell_type": "code",
      "source": [
        "'''\n",
        "Também podemos converter a lista para um ARRAY e assim termos acesso a algumas funções matemáticas.\n",
        "Com isso podemos usar alguns recursos como soma, média, valor mínimo, valor máximo. \n",
        "Primeiro vamos importar a biblioteca Numpy\n",
        "'''\n",
        "import numpy as np\n",
        "#agora vamos converter a lista para um array e usar a função SUM de soma.\n",
        "soma3 = np.array(lista).sum()\n",
        "print(soma3)\n",
        "#O mesmo serve pra Forma 2\n",
        "#soma4 = np.array(lista2).sum()\n",
        "#print(soma4)"
      ],
      "metadata": {
        "colab": {
          "base_uri": "https://localhost:8080/"
        },
        "id": "xmPz9ymWbaQr",
        "outputId": "ee05a3d4-27da-46b7-8462-f638cfbfa72f"
      },
      "execution_count": 133,
      "outputs": [
        {
          "output_type": "stream",
          "name": "stdout",
          "text": [
            "15\n"
          ]
        }
      ]
    },
    {
      "cell_type": "code",
      "source": [
        "#OBS. se fizermos lista.sum() teremos um erro uma vez que o atributo sum não existe para uma lista. Este tipo de atributo é exclusivo para um array.\n",
        "lista2.sum()\n",
        "#AttributeError: 'list' object has no attribute 'sum'"
      ],
      "metadata": {
        "colab": {
          "base_uri": "https://localhost:8080/",
          "height": 184
        },
        "id": "1seYv7CCdWUj",
        "outputId": "64a7fa96-84f3-4f70-b3b3-d342472c3d6a"
      },
      "execution_count": 135,
      "outputs": [
        {
          "output_type": "error",
          "ename": "AttributeError",
          "evalue": "ignored",
          "traceback": [
            "\u001b[0;31m---------------------------------------------------------------------------\u001b[0m",
            "\u001b[0;31mAttributeError\u001b[0m                            Traceback (most recent call last)",
            "\u001b[0;32m<ipython-input-135-564f9ffa9513>\u001b[0m in \u001b[0;36m<module>\u001b[0;34m()\u001b[0m\n\u001b[1;32m      1\u001b[0m \u001b[0;31m#OBS. se fizermos lista.sum() teremos um erro uma vez que o atributo sum não existe para uma lista. Este tipo de atributo é exclusivo para um array.\u001b[0m\u001b[0;34m\u001b[0m\u001b[0;34m\u001b[0m\u001b[0;34m\u001b[0m\u001b[0m\n\u001b[0;32m----> 2\u001b[0;31m \u001b[0mlista2\u001b[0m\u001b[0;34m.\u001b[0m\u001b[0msum\u001b[0m\u001b[0;34m(\u001b[0m\u001b[0;34m)\u001b[0m\u001b[0;34m\u001b[0m\u001b[0;34m\u001b[0m\u001b[0m\n\u001b[0m",
            "\u001b[0;31mAttributeError\u001b[0m: 'list' object has no attribute 'sum'"
          ]
        }
      ]
    },
    {
      "cell_type": "markdown",
      "source": [
        "2 - Dicionário: Crie um dicionário para armazenar o nome e a nota de 3 alunos, fazendo a leitura dos valores por meio de uma estrutura de repetição. Depois, crie uma nova estrutura de repetição para somar todas as notas e retornar a média."
      ],
      "metadata": {
        "id": "Tx9fJVIsnzhl"
      }
    },
    {
      "cell_type": "code",
      "source": [
        "#Nessa estrutura a lógica usada foi: Para cada 3 loops de i 1 loop para j\n",
        "boletim_notas = {}\n",
        "for i in range(3):\n",
        "  nome = input(f'Digite o nome do {i + 1}º aluno ')\n",
        "  for j in range(1):\n",
        "    nota = float(input(f'Digite a nota do {i + 1}º aluno '))\n",
        "  boletim_notas[nome] = nota\n",
        "print(boletim_notas)"
      ],
      "metadata": {
        "colab": {
          "base_uri": "https://localhost:8080/"
        },
        "id": "_CNn0AD5oD2w",
        "outputId": "0088f363-2659-472c-e248-5cfe966da50d"
      },
      "execution_count": 43,
      "outputs": [
        {
          "output_type": "stream",
          "name": "stdout",
          "text": [
            "Digite o nome do 1º aluno Wagner\n",
            "Digite a nota do 1º aluno 5.9\n",
            "Digite o nome do 2º aluno Fatima\n",
            "Digite a nota do 2º aluno 7.1\n",
            "Digite o nome do 3º aluno Aldenor\n",
            "Digite a nota do 3º aluno 8.8\n",
            "{'Wagner': 5.9, 'Fatima': 7.1, 'Aldenor': 8.8}\n"
          ]
        }
      ]
    },
    {
      "cell_type": "code",
      "source": [
        "#Contudo temos uma forma bem mais simples e objetiva\n",
        "alunos = {}\n",
        "for _ in range(1, 4):\n",
        "  nome = input('Digite o nome de um aluno ')\n",
        "  nota = float(input('Digite a nota de um aluno '))\n",
        "  alunos[nome] = nota\n",
        "print(alunos)"
      ],
      "metadata": {
        "colab": {
          "base_uri": "https://localhost:8080/"
        },
        "id": "jfUVqxNonS2u",
        "outputId": "847b7297-f72d-4b2d-cf4f-82aa79441495"
      },
      "execution_count": 138,
      "outputs": [
        {
          "output_type": "stream",
          "name": "stdout",
          "text": [
            "Digite o nome de um aluno Wagner\n",
            "Digite a nota de um aluno 10\n",
            "Digite o nome de um aluno Bernardo\n",
            "Digite a nota de um aluno 10\n",
            "Digite o nome de um aluno Rodrigues\n",
            "Digite a nota de um aluno 10\n",
            "{'Wagner': 10.0, 'Bernardo': 10.0, 'Rodrigues': 10.0}\n"
          ]
        }
      ]
    },
    {
      "cell_type": "code",
      "source": [
        "#Apresentando o dicionário criado\n",
        "print(f'O dicionário boletim_notas é {boletim_notas}.')\n",
        "#Mostrando o tamanho do dicionário\n",
        "tamanho_dicionario = (len(boletim_notas))\n",
        "print(f'Seu tamanho é de {tamanho_dicionario} posições.')\n",
        "#Fazendo a soma e a média dos valores contidos no dicionário por meio de uma estrutura de repetição FOR\n",
        "soma = 0\n",
        "for i in boletim_notas.values():\n",
        "  soma = float(soma + i)\n",
        "media = round(float(soma / tamanho_dicionario),2)\n",
        "#Imprimindo o valor da soma e da média\n",
        "print(f'A soma das notas é igual a {soma} e a sua média é igual {media}')"
      ],
      "metadata": {
        "colab": {
          "base_uri": "https://localhost:8080/"
        },
        "id": "xmhxWuM4UvZ0",
        "outputId": "321c539f-1ef9-4716-bb46-e2af6e3fcee8"
      },
      "execution_count": 45,
      "outputs": [
        {
          "output_type": "stream",
          "name": "stdout",
          "text": [
            "O dicionário boletim_notas é {'Wagner': 5.9, 'Fatima': 7.1, 'Aldenor': 8.8}.\n",
            "Seu tamanho é de 3 posições.\n",
            "A soma das notas é igual a 21.8 e a sua média é igual 7.27\n"
          ]
        }
      ]
    },
    {
      "cell_type": "markdown",
      "source": [
        "3 - Matriz: Dada a matriz abaixo, construa uma estrutura de repetição para percorrer e somar todos os elementos da matriz\n",
        "\n",
        "matriz = np.array([[3, 4, 1],\n",
        "                   [3, 1, 5]])"
      ],
      "metadata": {
        "id": "3u_tGf0jn9Dc"
      }
    },
    {
      "cell_type": "code",
      "source": [
        "#Primeiramente, quando vamos trabalhar com Array temos que importar a biblioteca Numpy\n",
        "import numpy as np"
      ],
      "metadata": {
        "id": "c9ysrCMzoE3L"
      },
      "execution_count": 46,
      "outputs": []
    },
    {
      "cell_type": "code",
      "source": [
        "#Criando uma matriz conforme solicitada na questão:\n",
        "matriz = np.array([[3,4,1],[3,1,5]])\n",
        "print(matriz)"
      ],
      "metadata": {
        "colab": {
          "base_uri": "https://localhost:8080/"
        },
        "id": "RR5BrCGIAFyF",
        "outputId": "ae8aa823-d99f-4437-d668-dd456000bb5a"
      },
      "execution_count": 49,
      "outputs": [
        {
          "output_type": "stream",
          "name": "stdout",
          "text": [
            "[[3 4 1]\n",
            " [3 1 5]]\n"
          ]
        }
      ]
    },
    {
      "cell_type": "code",
      "source": [
        "#Primeiramente, quando vamos trabalhar com Array temos que importar a biblioteca Numpy\n",
        "import numpy as np\n",
        "\n",
        "#Criando uma matriz conforme solicitada na questão:\n",
        "matriz = np.array([[3,4,1],[3,1,5]])\n",
        "print(f'A matriz criada é: ')\n",
        "print(matriz)\n",
        "print('------------------------------------')\n",
        "\n",
        "#Criando uma estrutura de repetição para percorrer e somar todos os alementos da matriz\n",
        "soma_matriz = 0\n",
        "for i in range(matriz.shape[0]):\n",
        "  print(matriz[i])\n",
        "  print(' ')\n",
        "  for j in range(matriz.shape[1]):\n",
        "    print(matriz[i][j])\n",
        "    print('----')\n",
        "    print(' ')\n",
        "    soma_matriz += matriz[i][j]\n",
        "print(f'A soma de todos os valores da matriz é igual a {soma_matriz}')"
      ],
      "metadata": {
        "colab": {
          "base_uri": "https://localhost:8080/"
        },
        "id": "F-CzVxnT_6BC",
        "outputId": "7f2ad2cf-0232-432b-ebcc-a9894233bae7"
      },
      "execution_count": 139,
      "outputs": [
        {
          "output_type": "stream",
          "name": "stdout",
          "text": [
            "A matriz criada é: \n",
            "[[3 4 1]\n",
            " [3 1 5]]\n",
            "------------------------------------\n",
            "[3 4 1]\n",
            " \n",
            "3\n",
            "----\n",
            " \n",
            "4\n",
            "----\n",
            " \n",
            "1\n",
            "----\n",
            " \n",
            "[3 1 5]\n",
            " \n",
            "3\n",
            "----\n",
            " \n",
            "1\n",
            "----\n",
            " \n",
            "5\n",
            "----\n",
            " \n",
            "A soma de todos os valores da matriz é igual a 17\n"
          ]
        }
      ]
    }
  ]
}