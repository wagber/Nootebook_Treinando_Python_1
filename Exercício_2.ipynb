{
  "nbformat": 4,
  "nbformat_minor": 0,
  "metadata": {
    "colab": {
      "name": "Exercício 2.ipynb",
      "provenance": [],
      "collapsed_sections": [],
      "authorship_tag": "ABX9TyMgEy08OJjwiUS+t6wO0KwX",
      "include_colab_link": true
    },
    "kernelspec": {
      "name": "python3",
      "display_name": "Python 3"
    },
    "language_info": {
      "name": "python"
    }
  },
  "cells": [
    {
      "cell_type": "markdown",
      "metadata": {
        "id": "view-in-github",
        "colab_type": "text"
      },
      "source": [
        "<a href=\"https://colab.research.google.com/github/wagber/Nootebook_Treinando_Python_1/blob/main/Exerc%C3%ADcio_2.ipynb\" target=\"_parent\"><img src=\"https://colab.research.google.com/assets/colab-badge.svg\" alt=\"Open In Colab\"/></a>"
      ]
    },
    {
      "cell_type": "markdown",
      "source": [
        "1 -Leia a idade do usuário e classifique-o em:\n",
        "- Criança – 0 a 12 anos\n",
        "- Adolescente – 13 a 17 anos\n",
        "- Adulto – acima de 18 anos\n",
        "-Se o usuário digitar um número negativo, mostrar a mensagem que a idade é inválida"
      ],
      "metadata": {
        "id": "QrlwZBROtOjh"
      }
    },
    {
      "cell_type": "code",
      "source": [
        "idade = int(input('Digite a sua idade '))\n",
        "\n",
        "if idade >= 0 and idade <= 12:\n",
        "  print(f'A Criança tem {idade} anos')\n",
        "elif idade > 12 and idade <= 18:\n",
        "  print(f'O Adolescente tem {idade} anos')\n",
        "elif idade > 18 and idade <= 130:\n",
        "  print(f'O Adulto tem {idade} Anos')\n",
        "elif idade < 0  or idade > 130:\n",
        "  print(f'Idade inválida')"
      ],
      "metadata": {
        "colab": {
          "base_uri": "https://localhost:8080/"
        },
        "id": "53k12xMztazH",
        "outputId": "18a80d8f-d1e7-4480-acc0-49b1320b59c0"
      },
      "execution_count": null,
      "outputs": [
        {
          "output_type": "stream",
          "name": "stdout",
          "text": [
            "Digite a sua idade 131\n",
            "Idade inválida\n"
          ]
        }
      ]
    },
    {
      "cell_type": "markdown",
      "source": [
        "2 - Calcular a média de um aluno que cursou a disciplina de Programação I, a partir da leitura das notas M1, M2 e M3; passando por um cálculo da média aritmética. Após a média calculada, devemos anunciar se o aluno foi aprovado, reprovado ou pegou exame\n",
        "- Se a média estiver entre 0.0 e 4.0, o aluno está reprovado\n",
        "- Se a média estiver entre 4.1 e 6.0, o aluno pegou exame\n",
        "- Se a média for maior do que 6.0, o aluno está aprovado\n",
        "- Se o aluno pegou exame, deve ser lida a nota do exame. Se a nota do exame for maior do que 6.0, está aprovado, senão; está reprovado"
      ],
      "metadata": {
        "id": "9otIacvptXMc"
      }
    },
    {
      "cell_type": "code",
      "source": [
        "M1 = float(input('Digite a nota 1 '))\n",
        "M2 = float(input('Digite a nota 2 '))\n",
        "M3 = float(input('digite a nota 3 '))\n",
        "\n",
        "media = round((M1 + M2 + M3) / 3)\n",
        "\n",
        "print(media)\n",
        "\n",
        "if (media >= 0.0) and (media <=4.0):\n",
        "  print('O Aluno foi Reprovado')\n",
        "elif (media > 4.0) and (media < 6.0):\n",
        "  print('O Aluno pegou exame')\n",
        "  if media == 6.0:\n",
        "    print('e está Reprovado')\n",
        "elif media > 6.0:\n",
        "      print('Aluno Aprovado')"
      ],
      "metadata": {
        "colab": {
          "base_uri": "https://localhost:8080/"
        },
        "id": "fUdCA9DKtbYh",
        "outputId": "599cd773-e108-4e47-cf03-2e1738d259bb"
      },
      "execution_count": null,
      "outputs": [
        {
          "output_type": "stream",
          "name": "stdout",
          "text": [
            "Digite a nota 1 -1\n",
            "Digite a nota 2 -1\n",
            "digite a nota 3 -1\n",
            "-1\n",
            "O Aluno foi Reprovado\n"
          ]
        }
      ]
    },
    {
      "cell_type": "code",
      "source": [
        "M1 = float(input('Digite a nota 1 '))\n",
        "M2 = float(input('Digite a nota 2 '))\n",
        "M3 = float(input('Digite a nota 3 '))\n",
        "\n",
        "media = round(((M1 + M2 + M3) / 3), 2)\n",
        "print(media)\n",
        "\n",
        "if media >= 0.0 and media <= 4.0:\n",
        "  print('Aluno foi Reprovado')\n",
        "elif media > 4.1 and media <= 6.0:\n",
        "  exame = float(input('Digite a nota do exame '))\n",
        "  if exame >= 6.0:\n",
        "      print('Aprovado no Exame')\n",
        "  else:\n",
        "      print('Reprovado no Exame')\n",
        "elif media < 0:\n",
        "  print('Nota inválida')\n",
        "else:\n",
        "  print('Aluno Aprovado')"
      ],
      "metadata": {
        "id": "fQGGsJdaUkgh",
        "colab": {
          "base_uri": "https://localhost:8080/"
        },
        "outputId": "c9f64121-8a60-47d1-cfa3-5c81e4796de4"
      },
      "execution_count": null,
      "outputs": [
        {
          "output_type": "stream",
          "name": "stdout",
          "text": [
            "Digite a nota 1 -1\n",
            "Digite a nota 2 -1\n",
            "Digite a nota 3 -7\n",
            "-3.0\n",
            "Nota inválida\n"
          ]
        }
      ]
    }
  ]
}