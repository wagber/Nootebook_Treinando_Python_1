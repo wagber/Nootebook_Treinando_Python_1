{
  "nbformat": 4,
  "nbformat_minor": 0,
  "metadata": {
    "colab": {
      "name": "Exercício - 5.ipynb",
      "provenance": [],
      "authorship_tag": "ABX9TyMJ/xB/pdRIbi8RdAoTHF9J",
      "include_colab_link": true
    },
    "kernelspec": {
      "name": "python3",
      "display_name": "Python 3"
    },
    "language_info": {
      "name": "python"
    }
  },
  "cells": [
    {
      "cell_type": "markdown",
      "metadata": {
        "id": "view-in-github",
        "colab_type": "text"
      },
      "source": [
        "<a href=\"https://colab.research.google.com/github/wagber/Nootebook_Treinando_Python_1/blob/main/Exerc%C3%ADcio_5.ipynb\" target=\"_parent\"><img src=\"https://colab.research.google.com/assets/colab-badge.svg\" alt=\"Open In Colab\"/></a>"
      ]
    },
    {
      "cell_type": "markdown",
      "source": [
        "1 - Ler uma temperatura em graus Celsius e apresentá-la convertida em graus Fahrenheit. A fórmula de conversão é F = (9 * C + 160) / 5, na qual F é a temperatura em Fahrenheit e C é a temperatura em graus Celsius\n",
        "- Função para ler e retorna o valor da temperatura (não recebe parâmetro)\n",
        "- Função para fazer o cálculo (recebe como parâmetro a temperatura em graus Celsius)\n",
        "- Função para mostrar o resultado, recebendo como parâmetro o valor e fazendo a impressão"
      ],
      "metadata": {
        "id": "Sqa9uRj6XEzr"
      }
    },
    {
      "cell_type": "markdown",
      "source": [
        "***Função para ler e retorna o valor da temperatura (não recebe parâmetro)***"
      ],
      "metadata": {
        "id": "8M01PeRBgXXD"
      }
    },
    {
      "cell_type": "code",
      "source": [
        "#Função para ler e retorna o valor da temperatura (não recebe parâmetro)\n",
        "def ler_temperatura():\n",
        "  temperatura_Celsius = float(input('Digite a temperatura em graus Celsius: '))\n",
        "  return temperatura_Celsius"
      ],
      "metadata": {
        "id": "bl7-pNhhdTjX"
      },
      "execution_count": 103,
      "outputs": []
    },
    {
      "cell_type": "markdown",
      "source": [
        "***Função para fazer o cálculo (recebe como parâmetro a temperatura em graus Celsius)***"
      ],
      "metadata": {
        "id": "BHAj_G_ogfTy"
      }
    },
    {
      "cell_type": "code",
      "source": [
        "def converter_temperatura(temperatura_em_Celsius):\n",
        "  temperatura_em_Fahrenheit = ((9 * temperatura_em_Celsius) + 160) / 5\n",
        "  return temperatura_em_Fahrenheit"
      ],
      "metadata": {
        "id": "T507-Unlkf2Z"
      },
      "execution_count": 104,
      "outputs": []
    },
    {
      "cell_type": "markdown",
      "source": [
        "***Função para mostrar o resultado, recebendo como parâmetro o valor e fazendo a impressão***"
      ],
      "metadata": {
        "id": "1E6p2BoWgnbx"
      }
    },
    {
      "cell_type": "code",
      "source": [
        "def mostrar_resultado(temperatura_Fahrenheit):\n",
        "  print(temperatura_Fahrenheit)"
      ],
      "metadata": {
        "id": "6Vy4zwDPh8RT"
      },
      "execution_count": 105,
      "outputs": []
    },
    {
      "cell_type": "code",
      "source": [
        "temperatura_c = ler_temperatura()\n",
        "temperatura_f = converter_temperatura(temperatura_c)\n",
        "mostrar_resultado = (temperatura_f)\n",
        "print(mostrar_resultado)"
      ],
      "metadata": {
        "colab": {
          "base_uri": "https://localhost:8080/"
        },
        "id": "IXOdpPpsl3vt",
        "outputId": "49f25216-6dfd-435e-ea8a-5b2c360eea41"
      },
      "execution_count": 107,
      "outputs": [
        {
          "output_type": "stream",
          "name": "stdout",
          "text": [
            "Digite a temperatura em graus Celsius: 31\n",
            "87.8\n"
          ]
        }
      ]
    },
    {
      "cell_type": "markdown",
      "source": [
        "2 - Efetuar o cálculo da quantidade de litros de combustível gasto em uma viagem, utilizando um automóvel que faz 12 Km por litro. Para obter o cálculo, o usuário deve fornecer o tempo gasto na viagem e a velocidade média durante ela. Desta forma, será possível obter a distância percorrida com a fórmula DISTANCIA = TEMPO * VELOCIDADE. Tendo o valor da distância, basta calcular a quantidade de litros de combustível utilizada na viagem, com a fórmula: LITROS_USADOS = DISTANCIA / 12. O programa deve apresentar os valores da velocidade média, tempo gasto na viagem, a distância percorrida e a quantidade de litros utilizada na viagem\n",
        "- Função para ler os valores (não recebe parâmetro e retorna os dois valores)\n",
        "- Função para calcular a distância (recebe como parâmetro o tempo e a velocidade e retorna a distância)\n",
        "- Função para calcular a quantidade de litros (recebe como parâmetro a distância e retorna os litros)\n",
        "- Função para apresentar o resultado (recebe como parâmetro os valores e somente imprime o resultado)"
      ],
      "metadata": {
        "id": "fjgaeQTaXHJl"
      }
    },
    {
      "cell_type": "markdown",
      "source": [
        "**Função para ler os valores (não recebe parâmetro e retorna os dois valores)**"
      ],
      "metadata": {
        "id": "kup5kGbvTvpE"
      }
    },
    {
      "cell_type": "code",
      "source": [
        "def ler_valores():\n",
        "  a = float(input('Digite o valor do tempo da viagem: '))\n",
        "  b = float(input('Digite a velocidade média: '))\n",
        "  return a, b"
      ],
      "metadata": {
        "id": "ew1W817WXQgR"
      },
      "execution_count": 66,
      "outputs": []
    },
    {
      "cell_type": "markdown",
      "source": [
        "**Função para calcular a distância - DISTANCIA = TEMPO * VELOCIDADE (recebe como parâmetro o tempo e a velocidade e retorna a distância)**"
      ],
      "metadata": {
        "id": "U_REj0aoT-1m"
      }
    },
    {
      "cell_type": "code",
      "source": [
        "def distancia(t, v):\n",
        "  d = t * v\n",
        "  return d\n",
        "  #Ou podemos retorar direto\n",
        "  #return t * v sem precisar fazer d = t * v"
      ],
      "metadata": {
        "id": "IzrzSuvtUCiF"
      },
      "execution_count": 67,
      "outputs": []
    },
    {
      "cell_type": "markdown",
      "source": [
        "**Função para calcular a quantidade de litros - LITROS_USADOS = DISTANCIA / 12 (recebe como parâmetro a distância e retorna os litros)**"
      ],
      "metadata": {
        "id": "4dioqQeeUC-v"
      }
    },
    {
      "cell_type": "code",
      "source": [
        "def consumo(distancia):\n",
        "  litros_usados = distancia / 12\n",
        "  return litros_usados"
      ],
      "metadata": {
        "id": "0EOKng6zUHrU"
      },
      "execution_count": 68,
      "outputs": []
    },
    {
      "cell_type": "markdown",
      "source": [
        "**Função para apresentar o resultado (recebe como parâmetro os valores e somente imprime o resultado)**"
      ],
      "metadata": {
        "id": "0BqwGeO0UIVS"
      }
    },
    {
      "cell_type": "code",
      "source": [
        "def resultado(velocidade, tempo, distancia, consumo):\n",
        "  print(f'a velocidade é: {velocidade}, o tempo foi: {tempo}, a distancia foi: {distancia}, e o consumo foi: {consumo}')"
      ],
      "metadata": {
        "id": "n8xkwJsMUL_w"
      },
      "execution_count": 108,
      "outputs": []
    },
    {
      "cell_type": "code",
      "source": [
        "def imprime_resultado(velocidade, tempo, distancia, litros):\n",
        "  print('Velcidade: ', velocidade)\n",
        "  print('Tempo: ', tempo)\n",
        "  print('Distância: ', distancia)\n",
        "  print('Litros: ', litros)"
      ],
      "metadata": {
        "id": "P-uTNJ9p63JK"
      },
      "execution_count": 83,
      "outputs": []
    },
    {
      "cell_type": "markdown",
      "source": [
        "**Chamando as Funções**"
      ],
      "metadata": {
        "id": "VyMarBw0gEBF"
      }
    },
    {
      "cell_type": "code",
      "source": [
        "#Forma 1 de chamar as Funções\n",
        "\n",
        "recebendo_valores = ler_valores()\n",
        "calculando_distancia = distancia(recebendo_valores[0],recebendo_valores[1])\n",
        "calculando_consumo = consumo(calculando_distancia)\n",
        "print(f'O tempo da viagem é de {recebendo_valores[0]} horas')\n",
        "print(f'com uma velocidade média de {recebendo_valores[1]} quilometro por hora')\n",
        "print(f'e um consumo de {calculando_consumo} litros por quilometro para uma distancia de {calculando_distancia} quilometros.')\n",
        "resultado(recebendo_valores[0],recebendo_valores[1],calculando_distancia, calculando_consumo)"
      ],
      "metadata": {
        "colab": {
          "base_uri": "https://localhost:8080/"
        },
        "id": "7tptzVtdgCla",
        "outputId": "e2f545fa-3076-49ca-c525-c85e5b6b785f"
      },
      "execution_count": 109,
      "outputs": [
        {
          "output_type": "stream",
          "name": "stdout",
          "text": [
            "Digite o valor do tempo da viagem: 4\n",
            "Digite a velocidade média: 100\n",
            "O tempo da viagem é de 4.0 horas\n",
            "com uma velocidade média de 100.0 quilometro por hora\n",
            "e um consumo de 33.333333333333336 litros por quilometro para uma distancia de 400.0 quilometros.\n",
            "a velocidade é: 4.0, o tempo foi: 100.0, a distancia foi: 400.0, e o consumo foi: 33.333333333333336\n"
          ]
        }
      ]
    },
    {
      "cell_type": "code",
      "source": [
        "#Forma 2 de chamar as Funções\n",
        "\n",
        "t, v = ler_valores()\n",
        "d = distancia(t, v)\n",
        "l = consumo(d)\n",
        "imprime_resultado(t, v, d, l)"
      ],
      "metadata": {
        "colab": {
          "base_uri": "https://localhost:8080/"
        },
        "id": "7oxxDXwt6nXm",
        "outputId": "7707c6b4-dbc8-40b0-fed1-8fb3daddedd9"
      },
      "execution_count": 85,
      "outputs": [
        {
          "output_type": "stream",
          "name": "stdout",
          "text": [
            "Digite o valor do tempo da viagem: 4\n",
            "Digite a velocidade média: 100\n",
            "Velcidade:  4.0\n",
            "Tempo:  100.0\n",
            "Distância:  400.0\n",
            "Litros:  33.333333333333336\n"
          ]
        }
      ]
    }
  ]
}