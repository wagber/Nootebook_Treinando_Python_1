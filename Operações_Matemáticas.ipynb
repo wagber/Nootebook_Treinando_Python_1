{
  "nbformat": 4,
  "nbformat_minor": 0,
  "metadata": {
    "colab": {
      "name": "Operações Matemáticas.ipynb",
      "provenance": [],
      "authorship_tag": "ABX9TyNP4eEL71yFPvR58lyeQYwd",
      "include_colab_link": true
    },
    "kernelspec": {
      "name": "python3",
      "display_name": "Python 3"
    },
    "language_info": {
      "name": "python"
    }
  },
  "cells": [
    {
      "cell_type": "markdown",
      "metadata": {
        "id": "view-in-github",
        "colab_type": "text"
      },
      "source": [
        "<a href=\"https://colab.research.google.com/github/wagber/Nootebook_Treinando_Python_1/blob/main/Opera%C3%A7%C3%B5es_Matem%C3%A1ticas.ipynb\" target=\"_parent\"><img src=\"https://colab.research.google.com/assets/colab-badge.svg\" alt=\"Open In Colab\"/></a>"
      ]
    },
    {
      "cell_type": "markdown",
      "source": [
        "**Operações Matemáticas**"
      ],
      "metadata": {
        "id": "CjbVopZqxX56"
      }
    },
    {
      "cell_type": "code",
      "source": [
        "a = 5\n",
        "b = 3\n",
        "print(a, b) "
      ],
      "metadata": {
        "colab": {
          "base_uri": "https://localhost:8080/"
        },
        "id": "0IqqS8Nsxcev",
        "outputId": "78d4417f-9b14-473b-9904-07125ef63e9a"
      },
      "execution_count": null,
      "outputs": [
        {
          "output_type": "stream",
          "name": "stdout",
          "text": [
            "5 3\n"
          ]
        }
      ]
    },
    {
      "cell_type": "code",
      "source": [
        "soma = a + b\n",
        "print(soma)"
      ],
      "metadata": {
        "colab": {
          "base_uri": "https://localhost:8080/"
        },
        "id": "CNfsxumr9Ljj",
        "outputId": "224516af-1fb8-4666-9b0a-d8cff89a2b9d"
      },
      "execution_count": null,
      "outputs": [
        {
          "output_type": "stream",
          "name": "stdout",
          "text": [
            "8\n"
          ]
        }
      ]
    },
    {
      "cell_type": "code",
      "source": [
        "print('A soma é',a + b)\n",
        "print('A subtração é',a - b)\n",
        "print('A divisão é',a / b)\n",
        "print('A multiplicação é',a * b)"
      ],
      "metadata": {
        "colab": {
          "base_uri": "https://localhost:8080/"
        },
        "id": "enyEeQqZ9T2t",
        "outputId": "038b9777-d48e-41c6-cdaa-719c663494d6"
      },
      "execution_count": null,
      "outputs": [
        {
          "output_type": "stream",
          "name": "stdout",
          "text": [
            "A soma é 8\n",
            "A subtração é 2\n",
            "A divisão é 1.6666666666666667\n",
            "A multiplicação é 15\n"
          ]
        }
      ]
    },
    {
      "cell_type": "code",
      "source": [
        "#Tras a parte inteira do resto da divisão\n",
        "c = 10\n",
        "d = 3\n",
        "print('O resto da divisão é',c % d)\n",
        "#ou\n",
        "print('O resto da divisão é', 10 % 3)"
      ],
      "metadata": {
        "colab": {
          "base_uri": "https://localhost:8080/"
        },
        "id": "zsUPDbea9ZBs",
        "outputId": "54cf28df-9826-43f2-a3dc-ac91048ce7e8"
      },
      "execution_count": null,
      "outputs": [
        {
          "output_type": "stream",
          "name": "stdout",
          "text": [
            "O resto da divisão é 1\n",
            "O resto da divisão é 1\n"
          ]
        }
      ]
    },
    {
      "cell_type": "code",
      "source": [
        "#Exponenciação - elevando um número ao quadrado ou ao cubo ou a qualquer outro número desejado\n",
        "e = 5\n",
        "f = 3\n",
        "print('5 elevado a 3 é', e ** f)\n",
        "#ou\n",
        "print('5 elevado a 3 é', 5 ** 3)\n",
        "#ou\n",
        "print('5 elevado a 3 é',5 * 5 * 5)"
      ],
      "metadata": {
        "colab": {
          "base_uri": "https://localhost:8080/"
        },
        "id": "dED_ciIa-8vE",
        "outputId": "0d204837-1f86-4fdf-cd90-cc2e38a36e7d"
      },
      "execution_count": null,
      "outputs": [
        {
          "output_type": "stream",
          "name": "stdout",
          "text": [
            "5 elevado a 3 é 125\n",
            "5 elevado a 3 é 125\n",
            "5 elevado a 3 é 125\n"
          ]
        }
      ]
    },
    {
      "cell_type": "code",
      "source": [
        "#Trabalhando com outros recursos do Python, como RAIZ QUADRADA usamos a biblioteca MATH\n",
        "import math\n",
        "#raiz quadrada - (sqrt)\n",
        "math.sqrt(81)\n",
        "#"
      ],
      "metadata": {
        "colab": {
          "base_uri": "https://localhost:8080/"
        },
        "id": "qD2Ib0cg_i_d",
        "outputId": "6802e980-a692-44a4-c2c9-50e9e0662168"
      },
      "execution_count": null,
      "outputs": [
        {
          "output_type": "execute_result",
          "data": {
            "text/plain": [
              "9.0"
            ]
          },
          "metadata": {},
          "execution_count": 21
        }
      ]
    },
    {
      "cell_type": "markdown",
      "source": [
        "**Arredondamento**"
      ],
      "metadata": {
        "id": "MLAM-veh2J-N"
      }
    },
    {
      "cell_type": "code",
      "source": [
        "casos_doenca = 134\n",
        "numero_habitantes =  34432\n",
        "casos_por_habitante = casos_doenca / numero_habitantes\n",
        "print(casos_por_habitante)\n",
        "#Arredondando as casas decimais com o ROUND e dizendo quantas casas decimais eu quero após a vírgula\n",
        "round(casos_por_habitante, 6)"
      ],
      "metadata": {
        "colab": {
          "base_uri": "https://localhost:8080/"
        },
        "id": "mSHWwR-JBA1b",
        "outputId": "e3bdcbb7-11ec-4444-838a-05382586c72f"
      },
      "execution_count": null,
      "outputs": [
        {
          "output_type": "stream",
          "name": "stdout",
          "text": [
            "0.003891728624535316\n"
          ]
        },
        {
          "output_type": "execute_result",
          "data": {
            "text/plain": [
              "0.003892"
            ]
          },
          "metadata": {},
          "execution_count": 27
        }
      ]
    },
    {
      "cell_type": "code",
      "source": [
        "print('O número de casos por habitantes é',round(casos_por_habitante, 4))"
      ],
      "metadata": {
        "colab": {
          "base_uri": "https://localhost:8080/"
        },
        "id": "ICmLGYXHE6I4",
        "outputId": "a5d1c26a-1c79-402b-8142-1d1bbba3a6a8"
      },
      "execution_count": null,
      "outputs": [
        {
          "output_type": "stream",
          "name": "stdout",
          "text": [
            "O número de casos por habitantes é 0.0039\n"
          ]
        }
      ]
    }
  ]
}