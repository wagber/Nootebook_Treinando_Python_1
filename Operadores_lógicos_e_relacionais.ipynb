{
  "nbformat": 4,
  "nbformat_minor": 0,
  "metadata": {
    "colab": {
      "name": "Operadores lógicos e relacionais.ipynb",
      "provenance": [],
      "authorship_tag": "ABX9TyOvSsC6o2dhXCQlGgnYdKln",
      "include_colab_link": true
    },
    "kernelspec": {
      "name": "python3",
      "display_name": "Python 3"
    },
    "language_info": {
      "name": "python"
    }
  },
  "cells": [
    {
      "cell_type": "markdown",
      "metadata": {
        "id": "view-in-github",
        "colab_type": "text"
      },
      "source": [
        "<a href=\"https://colab.research.google.com/github/wagber/Nootebook_Treinando_Python_1/blob/main/Operadores_l%C3%B3gicos_e_relacionais.ipynb\" target=\"_parent\"><img src=\"https://colab.research.google.com/assets/colab-badge.svg\" alt=\"Open In Colab\"/></a>"
      ]
    },
    {
      "cell_type": "markdown",
      "source": [
        "**Operadores Lógicos e Relacionais**"
      ],
      "metadata": {
        "id": "zy2fvQzkaJWO"
      }
    },
    {
      "cell_type": "markdown",
      "source": [
        "**Operadores Lógicos**"
      ],
      "metadata": {
        "id": "xbnU8mexaPXo"
      }
    },
    {
      "cell_type": "code",
      "source": [
        "a = True\n",
        "b = False\n",
        "print(a,b)"
      ],
      "metadata": {
        "colab": {
          "base_uri": "https://localhost:8080/"
        },
        "id": "A6Wz4sexaZuk",
        "outputId": "af2e8027-15f1-4e2e-aecb-3ffc7d896269"
      },
      "execution_count": null,
      "outputs": [
        {
          "output_type": "stream",
          "name": "stdout",
          "text": [
            "True False\n"
          ]
        }
      ]
    },
    {
      "cell_type": "code",
      "source": [
        "print(a and b)\n",
        "\n",
        "c = a and b\n",
        "print(\"'A' e 'B' são iguais é\", c)\n",
        "#-------------\n",
        "print(a & b)\n",
        "#-------------\n",
        "print(a or b)\n",
        "\n",
        "d = a or b\n",
        "print(\"'A' ou 'B' é igual a\", d)\n",
        "#-------------\n",
        "print(a | b)"
      ],
      "metadata": {
        "colab": {
          "base_uri": "https://localhost:8080/"
        },
        "id": "HBKEdDY1bAvx",
        "outputId": "8a318db7-dfff-4f91-ab62-64d4def559ef"
      },
      "execution_count": null,
      "outputs": [
        {
          "output_type": "stream",
          "name": "stdout",
          "text": [
            "False\n",
            "'A' e 'B' são iguais é False\n",
            "False\n",
            "True\n",
            "'A' ou 'B' é igual a True\n",
            "True\n",
            "True\n",
            "False\n"
          ]
        }
      ]
    },
    {
      "cell_type": "code",
      "source": [
        "print(a, b)\n",
        "e = not a\n",
        "print(e)\n",
        "#------------\n",
        "f = not b\n",
        "print(f)"
      ],
      "metadata": {
        "colab": {
          "base_uri": "https://localhost:8080/"
        },
        "id": "EvBN7NoXdf7H",
        "outputId": "6033ea45-74d8-4995-a6e1-baa9ff2cc059"
      },
      "execution_count": null,
      "outputs": [
        {
          "output_type": "stream",
          "name": "stdout",
          "text": [
            "True False\n",
            "False\n",
            "True\n"
          ]
        }
      ]
    },
    {
      "cell_type": "markdown",
      "source": [
        "**Operadores Relacionais**"
      ],
      "metadata": {
        "id": "b70VchTaaU5S"
      }
    },
    {
      "cell_type": "code",
      "source": [
        "print(5 > 3)\n",
        "print(5 >= 3)\n",
        "print(5 >= 5)\n",
        "print(5 < 3)\n",
        "print(5 <= 3)\n",
        "print(5 == 3)\n",
        "print(5 == 5)\n",
        "print(5 != 3)\n",
        "print(5 != 5)"
      ],
      "metadata": {
        "colab": {
          "base_uri": "https://localhost:8080/"
        },
        "id": "p_DHXP0naYb4",
        "outputId": "79e92922-a355-4e84-e5e1-4cf1a31e866f"
      },
      "execution_count": null,
      "outputs": [
        {
          "output_type": "stream",
          "name": "stdout",
          "text": [
            "True\n",
            "True\n",
            "True\n",
            "False\n",
            "False\n",
            "False\n",
            "True\n",
            "True\n",
            "False\n"
          ]
        }
      ]
    }
  ]
}