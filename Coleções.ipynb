{
  "nbformat": 4,
  "nbformat_minor": 0,
  "metadata": {
    "colab": {
      "name": "Coleções.ipynb",
      "provenance": [],
      "authorship_tag": "ABX9TyOz/Tz3xoyttXXhI11dTEBR",
      "include_colab_link": true
    },
    "kernelspec": {
      "name": "python3",
      "display_name": "Python 3"
    },
    "language_info": {
      "name": "python"
    }
  },
  "cells": [
    {
      "cell_type": "markdown",
      "metadata": {
        "id": "view-in-github",
        "colab_type": "text"
      },
      "source": [
        "<a href=\"https://colab.research.google.com/github/wagber/Nootebook_Treinando_Python_1/blob/main/Cole%C3%A7%C3%B5es.ipynb\" target=\"_parent\"><img src=\"https://colab.research.google.com/assets/colab-badge.svg\" alt=\"Open In Colab\"/></a>"
      ]
    },
    {
      "cell_type": "markdown",
      "source": [
        "**Tuplas**"
      ],
      "metadata": {
        "id": "qwTy7Q8CDGHP"
      }
    },
    {
      "cell_type": "code",
      "source": [
        "#Aqui a tupla se comporta como uma variável qualquer que recebe apenas um valor\n",
        "#type(tupla) = inteiro\n",
        "tupla = 3\n",
        "\n",
        "#Aqui a tupla se comporta como uma tupla, pois pode receber valores distintos,\n",
        "#podendo ser ele do tipo inteiro, string, etc.\n",
        "\n",
        "#type(tupla2) = tupla\n",
        "tupla2 = ('a', 1, '1')"
      ],
      "metadata": {
        "id": "_XPnDpatDXI2"
      },
      "execution_count": null,
      "outputs": []
    },
    {
      "cell_type": "code",
      "source": [
        "type(tupla)"
      ],
      "metadata": {
        "colab": {
          "base_uri": "https://localhost:8080/"
        },
        "id": "OOPCZu0hEQD5",
        "outputId": "570df703-8184-46cb-b9ae-c27a2e11eadf"
      },
      "execution_count": null,
      "outputs": [
        {
          "output_type": "execute_result",
          "data": {
            "text/plain": [
              "int"
            ]
          },
          "metadata": {},
          "execution_count": 3
        }
      ]
    },
    {
      "cell_type": "code",
      "source": [
        "type(tupla2)"
      ],
      "metadata": {
        "colab": {
          "base_uri": "https://localhost:8080/"
        },
        "id": "qoWhjmvzEWpP",
        "outputId": "464ebd1e-10f2-4989-9d71-6e92b2736bc5"
      },
      "execution_count": null,
      "outputs": [
        {
          "output_type": "execute_result",
          "data": {
            "text/plain": [
              "tuple"
            ]
          },
          "metadata": {},
          "execution_count": 4
        }
      ]
    },
    {
      "cell_type": "code",
      "source": [
        "tupla3 = ('gato','cachorro','vaca')\n",
        "tupla3"
      ],
      "metadata": {
        "colab": {
          "base_uri": "https://localhost:8080/"
        },
        "id": "-aHpcmULFBvg",
        "outputId": "4a348c35-2e67-4a62-9af1-5a25f4c2dfe6"
      },
      "execution_count": null,
      "outputs": [
        {
          "output_type": "execute_result",
          "data": {
            "text/plain": [
              "('gato', 'cachorro', 'vaca')"
            ]
          },
          "metadata": {},
          "execution_count": 15
        }
      ]
    },
    {
      "cell_type": "code",
      "source": [
        "#Identificando posição de um dados em uma tupla pelo índice\n",
        "tupla3.index('cachorro')"
      ],
      "metadata": {
        "colab": {
          "base_uri": "https://localhost:8080/"
        },
        "id": "in2a4FKflDck",
        "outputId": "2c23e7c5-1e91-4409-a8a9-2dcbc3b58601"
      },
      "execution_count": null,
      "outputs": [
        {
          "output_type": "execute_result",
          "data": {
            "text/plain": [
              "1"
            ]
          },
          "metadata": {},
          "execution_count": 17
        }
      ]
    },
    {
      "cell_type": "code",
      "source": [
        "#As tuplas são imutáveis, ou seja, não podem ser alteradas quanto ao seu tamanho(tipo de dados),\n",
        "#restringindo a adição, alteração, remoção e o ordenamento do elementos.\n",
        "tupla3[0]\n"
      ],
      "metadata": {
        "colab": {
          "base_uri": "https://localhost:8080/",
          "height": 35
        },
        "id": "jtQQZ52-Fc8q",
        "outputId": "73f139f3-e6f1-491f-ea26-877ad2806558"
      },
      "execution_count": null,
      "outputs": [
        {
          "output_type": "execute_result",
          "data": {
            "text/plain": [
              "'gato'"
            ],
            "application/vnd.google.colaboratory.intrinsic+json": {
              "type": "string"
            }
          },
          "metadata": {},
          "execution_count": 18
        }
      ]
    },
    {
      "cell_type": "code",
      "source": [
        "#Observe que a tupla3 foi completamente substituida, o que mostra sua imutabilidade quanto aos seus indices.\n",
        "tupla3 = ('boi')\n",
        "tupla3"
      ],
      "metadata": {
        "colab": {
          "base_uri": "https://localhost:8080/",
          "height": 35
        },
        "id": "dAs-ktCiHtxb",
        "outputId": "3e0f239a-3de7-4a1f-fb65-f9db0403ccdb"
      },
      "execution_count": null,
      "outputs": [
        {
          "output_type": "execute_result",
          "data": {
            "text/plain": [
              "'boi'"
            ],
            "application/vnd.google.colaboratory.intrinsic+json": {
              "type": "string"
            }
          },
          "metadata": {},
          "execution_count": 9
        }
      ]
    },
    {
      "cell_type": "code",
      "source": [
        "#Obeservamos aqui uma tentativa de adicionar um item em uma tupla usando um método que é próprio das listas\n",
        "tupla3.append('pinto')"
      ],
      "metadata": {
        "colab": {
          "base_uri": "https://localhost:8080/",
          "height": 184
        },
        "id": "-_oxuEjxIvE0",
        "outputId": "b8184a78-3e83-4369-93e7-03eb0709e309"
      },
      "execution_count": null,
      "outputs": [
        {
          "output_type": "error",
          "ename": "AttributeError",
          "evalue": "ignored",
          "traceback": [
            "\u001b[0;31m---------------------------------------------------------------------------\u001b[0m",
            "\u001b[0;31mAttributeError\u001b[0m                            Traceback (most recent call last)",
            "\u001b[0;32m<ipython-input-10-43669075b8b7>\u001b[0m in \u001b[0;36m<module>\u001b[0;34m()\u001b[0m\n\u001b[1;32m      1\u001b[0m \u001b[0;31m#Obeservamos aqui uma tentativa de adicionar um item em uma tupla usando um método que é próprio das listas\u001b[0m\u001b[0;34m\u001b[0m\u001b[0;34m\u001b[0m\u001b[0;34m\u001b[0m\u001b[0m\n\u001b[0;32m----> 2\u001b[0;31m \u001b[0mtupla3\u001b[0m\u001b[0;34m.\u001b[0m\u001b[0mappend\u001b[0m\u001b[0;34m(\u001b[0m\u001b[0;34m'pinto'\u001b[0m\u001b[0;34m)\u001b[0m\u001b[0;34m\u001b[0m\u001b[0;34m\u001b[0m\u001b[0m\n\u001b[0m",
            "\u001b[0;31mAttributeError\u001b[0m: 'str' object has no attribute 'append'"
          ]
        }
      ]
    },
    {
      "cell_type": "code",
      "source": [
        "#Como saber o tamanho de uma tupla\n",
        "print(len(tupla3))"
      ],
      "metadata": {
        "colab": {
          "base_uri": "https://localhost:8080/"
        },
        "id": "mH4GB0aZKVVp",
        "outputId": "f9c2b92f-31d7-45db-db37-765fddc04eeb"
      },
      "execution_count": null,
      "outputs": [
        {
          "output_type": "stream",
          "name": "stdout",
          "text": [
            "3\n"
          ]
        }
      ]
    },
    {
      "cell_type": "code",
      "source": [
        ""
      ],
      "metadata": {
        "colab": {
          "base_uri": "https://localhost:8080/",
          "height": 166
        },
        "id": "-cH7HScwLgJC",
        "outputId": "a4950202-52bf-4f49-f29e-6fd34e34080f"
      },
      "execution_count": null,
      "outputs": [
        {
          "output_type": "error",
          "ename": "AttributeError",
          "evalue": "ignored",
          "traceback": [
            "\u001b[0;31m---------------------------------------------------------------------------\u001b[0m",
            "\u001b[0;31mAttributeError\u001b[0m                            Traceback (most recent call last)",
            "\u001b[0;32m<ipython-input-24-9326528a6099>\u001b[0m in \u001b[0;36m<module>\u001b[0;34m()\u001b[0m\n\u001b[0;32m----> 1\u001b[0;31m \u001b[0mprint\u001b[0m\u001b[0;34m(\u001b[0m\u001b[0mlen\u001b[0m\u001b[0;34m.\u001b[0m\u001b[0mtupla3\u001b[0m\u001b[0;34m(\u001b[0m\u001b[0;34m)\u001b[0m\u001b[0;34m)\u001b[0m\u001b[0;34m\u001b[0m\u001b[0;34m\u001b[0m\u001b[0m\n\u001b[0m",
            "\u001b[0;31mAttributeError\u001b[0m: 'builtin_function_or_method' object has no attribute 'tupla3'"
          ]
        }
      ]
    },
    {
      "cell_type": "code",
      "source": [
        "#Percorrendo cada elemento de uma tupla podemos usar um for\n",
        "for elemento in tupla3:\n",
        "  print(elemento)\n"
      ],
      "metadata": {
        "colab": {
          "base_uri": "https://localhost:8080/"
        },
        "id": "hdQb-589k_4k",
        "outputId": "c018dd1a-712b-4337-f767-eedc62280d38"
      },
      "execution_count": null,
      "outputs": [
        {
          "output_type": "stream",
          "name": "stdout",
          "text": [
            "gato\n",
            "cachorro\n",
            "vaca\n"
          ]
        }
      ]
    },
    {
      "cell_type": "markdown",
      "source": [
        "**Listas**"
      ],
      "metadata": {
        "id": "iqtbOFZhDJxe"
      }
    },
    {
      "cell_type": "code",
      "source": [
        "#Criando listas\n",
        "lista1 = ['dinossauro','formiga','pato']\n",
        "lista2 = ['passaro','tatu','rato']\n",
        "print(lista1, lista2)"
      ],
      "metadata": {
        "id": "lWgO7v-iDX3g",
        "colab": {
          "base_uri": "https://localhost:8080/"
        },
        "outputId": "23da1a6e-761c-4e6e-87b8-67f210e065e8"
      },
      "execution_count": null,
      "outputs": [
        {
          "output_type": "stream",
          "name": "stdout",
          "text": [
            "['dinossauro', 'formiga', 'pato'] ['passaro', 'tatu', 'rato']\n"
          ]
        }
      ]
    },
    {
      "cell_type": "code",
      "source": [
        "#Concatenando listas\n",
        "lista3 = lista1 + lista2\n",
        "print(lista3)"
      ],
      "metadata": {
        "colab": {
          "base_uri": "https://localhost:8080/"
        },
        "id": "9SRjXfixm47v",
        "outputId": "909500da-f303-4dac-c3ed-48d77ce6f46c"
      },
      "execution_count": null,
      "outputs": [
        {
          "output_type": "stream",
          "name": "stdout",
          "text": [
            "['dinossauro', 'formiga', 'pato', 'passaro', 'tatu', 'rato']\n"
          ]
        }
      ]
    },
    {
      "cell_type": "code",
      "source": [
        "#Multiplicando listas\n",
        "lista3_1 = lista1 * 2\n",
        "print(lista3_1)"
      ],
      "metadata": {
        "colab": {
          "base_uri": "https://localhost:8080/"
        },
        "id": "nYQXrhRhpYf1",
        "outputId": "d882aee5-9280-449b-e951-efddc37cae9e"
      },
      "execution_count": null,
      "outputs": [
        {
          "output_type": "stream",
          "name": "stdout",
          "text": [
            "['dinossauro', 'formiga', 'pato', 'dinossauro', 'formiga', 'pato']\n"
          ]
        }
      ]
    },
    {
      "cell_type": "code",
      "source": [
        "lista4 = ['a', 1]\n",
        "print(lista4)"
      ],
      "metadata": {
        "colab": {
          "base_uri": "https://localhost:8080/"
        },
        "id": "cA-cqQmnnKZp",
        "outputId": "af8efc7b-8845-499a-bcb0-82eec9b8cb55"
      },
      "execution_count": null,
      "outputs": [
        {
          "output_type": "stream",
          "name": "stdout",
          "text": [
            "['a', 1]\n"
          ]
        }
      ]
    },
    {
      "cell_type": "code",
      "source": [
        "lista4.append(2)\n",
        "print(lista4)"
      ],
      "metadata": {
        "colab": {
          "base_uri": "https://localhost:8080/"
        },
        "id": "hZzfzU8IokTS",
        "outputId": "9a0bac7a-7024-4e37-9cd9-fb782be405b4"
      },
      "execution_count": null,
      "outputs": [
        {
          "output_type": "stream",
          "name": "stdout",
          "text": [
            "['a', 1, 2]\n"
          ]
        }
      ]
    },
    {
      "cell_type": "code",
      "source": [
        "#Acessando elementos\n",
        "lista3_1[2]"
      ],
      "metadata": {
        "colab": {
          "base_uri": "https://localhost:8080/",
          "height": 35
        },
        "id": "vB976QUkp29m",
        "outputId": "3abb3bb7-d23a-40e8-d9d8-28d6b09ac27d"
      },
      "execution_count": null,
      "outputs": [
        {
          "output_type": "execute_result",
          "data": {
            "text/plain": [
              "'pato'"
            ],
            "application/vnd.google.colaboratory.intrinsic+json": {
              "type": "string"
            }
          },
          "metadata": {},
          "execution_count": 28
        }
      ]
    },
    {
      "cell_type": "code",
      "source": [
        "lista3_1[0:2]"
      ],
      "metadata": {
        "colab": {
          "base_uri": "https://localhost:8080/"
        },
        "id": "bxLPV6zxqGG7",
        "outputId": "51221b2c-c806-4b87-ce08-dbd7aba71880"
      },
      "execution_count": null,
      "outputs": [
        {
          "output_type": "execute_result",
          "data": {
            "text/plain": [
              "['dinossauro', 'formiga']"
            ]
          },
          "metadata": {},
          "execution_count": 29
        }
      ]
    },
    {
      "cell_type": "code",
      "source": [
        "#Identificando a posição de um dados em uma lista\n",
        "lista3_1.index('pato')"
      ],
      "metadata": {
        "colab": {
          "base_uri": "https://localhost:8080/"
        },
        "id": "BOjlvyY2qKw9",
        "outputId": "3c4fd5a3-bcad-4262-c046-952b682f01ad"
      },
      "execution_count": null,
      "outputs": [
        {
          "output_type": "execute_result",
          "data": {
            "text/plain": [
              "2"
            ]
          },
          "metadata": {},
          "execution_count": 30
        }
      ]
    },
    {
      "cell_type": "code",
      "source": [
        "lista3_1.remove('formiga')\n",
        "print(lista3_1)"
      ],
      "metadata": {
        "colab": {
          "base_uri": "https://localhost:8080/"
        },
        "id": "Mo2VFY8kqsey",
        "outputId": "7c689eb3-ae12-4188-d4f3-f1f9aaba7a4d"
      },
      "execution_count": null,
      "outputs": [
        {
          "output_type": "stream",
          "name": "stdout",
          "text": [
            "['dinossauro', 'pato', 'dinossauro', 'formiga', 'pato']\n"
          ]
        }
      ]
    },
    {
      "cell_type": "code",
      "source": [
        "lista3_1.remove('formiga')\n",
        "print(lista3_1)"
      ],
      "metadata": {
        "colab": {
          "base_uri": "https://localhost:8080/"
        },
        "id": "kCSac84OrB0C",
        "outputId": "d78485ce-6b3a-43b0-87a0-8ffe3b88308a"
      },
      "execution_count": null,
      "outputs": [
        {
          "output_type": "stream",
          "name": "stdout",
          "text": [
            "['dinossauro', 'pato', 'dinossauro', 'pato']\n"
          ]
        }
      ]
    },
    {
      "cell_type": "code",
      "source": [
        "del(lista4)"
      ],
      "metadata": {
        "id": "gqpgJtCPrS4M"
      },
      "execution_count": null,
      "outputs": []
    },
    {
      "cell_type": "code",
      "source": [
        "print(lista4)"
      ],
      "metadata": {
        "colab": {
          "base_uri": "https://localhost:8080/",
          "height": 166
        },
        "id": "NIjLvRa8rmlc",
        "outputId": "c4cd0833-ec5c-430c-e943-c21ab57c417c"
      },
      "execution_count": null,
      "outputs": [
        {
          "output_type": "error",
          "ename": "NameError",
          "evalue": "ignored",
          "traceback": [
            "\u001b[0;31m---------------------------------------------------------------------------\u001b[0m",
            "\u001b[0;31mNameError\u001b[0m                                 Traceback (most recent call last)",
            "\u001b[0;32m<ipython-input-36-fb488156c10d>\u001b[0m in \u001b[0;36m<module>\u001b[0;34m()\u001b[0m\n\u001b[0;32m----> 1\u001b[0;31m \u001b[0mprint\u001b[0m\u001b[0;34m(\u001b[0m\u001b[0mlista4\u001b[0m\u001b[0;34m)\u001b[0m\u001b[0;34m\u001b[0m\u001b[0;34m\u001b[0m\u001b[0m\n\u001b[0m",
            "\u001b[0;31mNameError\u001b[0m: name 'lista4' is not defined"
          ]
        }
      ]
    },
    {
      "cell_type": "code",
      "source": [
        "for elementos in lista3_1:\n",
        "  print(elementos)"
      ],
      "metadata": {
        "colab": {
          "base_uri": "https://localhost:8080/"
        },
        "id": "p2XthCmtrrFm",
        "outputId": "c1578906-1a16-46bf-cfb9-ad4e079cb670"
      },
      "execution_count": null,
      "outputs": [
        {
          "output_type": "stream",
          "name": "stdout",
          "text": [
            "dinossauro\n",
            "pato\n",
            "dinossauro\n",
            "pato\n"
          ]
        }
      ]
    },
    {
      "cell_type": "markdown",
      "source": [
        "**Dicionários**"
      ],
      "metadata": {
        "id": "SC4o2gLSDNWJ"
      }
    },
    {
      "cell_type": "code",
      "source": [
        "#Chave, Valor\n",
        "rebanho = {'ovelhas': 32, 'vacas': 15, 'novilhas': 5}\n",
        "rebanho['ovelhas']"
      ],
      "metadata": {
        "id": "yiviLinRDZkT",
        "colab": {
          "base_uri": "https://localhost:8080/"
        },
        "outputId": "0a619b37-0447-46ea-af01-6a6b7e6ab269"
      },
      "execution_count": 2,
      "outputs": [
        {
          "output_type": "execute_result",
          "data": {
            "text/plain": [
              "32"
            ]
          },
          "metadata": {},
          "execution_count": 2
        }
      ]
    },
    {
      "cell_type": "code",
      "source": [
        "#Adicionando itens ao dicionário\n",
        "rebanho['bodes'] = 11\n",
        "print(rebanho)"
      ],
      "metadata": {
        "colab": {
          "base_uri": "https://localhost:8080/"
        },
        "id": "qN6bdRyjZUiD",
        "outputId": "bc9aa69e-448b-42c8-bbe6-2484e27e4732"
      },
      "execution_count": 8,
      "outputs": [
        {
          "output_type": "stream",
          "name": "stdout",
          "text": [
            "{'ovelhas': 32, 'vacas': 15, 'novilhas': 5, 'bodes': 11}\n"
          ]
        }
      ]
    },
    {
      "cell_type": "code",
      "source": [
        "#Deletando itens no dicionario\n",
        "del(rebanho)['vacas']\n",
        "print(rebanho)"
      ],
      "metadata": {
        "colab": {
          "base_uri": "https://localhost:8080/"
        },
        "id": "XQoYErbkZ3Oi",
        "outputId": "a628f1d7-0b58-438b-bb4c-584154a05b4f"
      },
      "execution_count": 10,
      "outputs": [
        {
          "output_type": "stream",
          "name": "stdout",
          "text": [
            "{'ovelhas': 32, 'novilhas': 5, 'bodes': 11}\n"
          ]
        }
      ]
    },
    {
      "cell_type": "code",
      "source": [
        "#Trazendo um dicionário completo\n",
        "rebanho.items()"
      ],
      "metadata": {
        "colab": {
          "base_uri": "https://localhost:8080/"
        },
        "id": "1PTIL0rNaVsc",
        "outputId": "b9bfbcb6-ee0f-4d8b-9457-08563cc4daa1"
      },
      "execution_count": 11,
      "outputs": [
        {
          "output_type": "execute_result",
          "data": {
            "text/plain": [
              "dict_items([('ovelhas', 32), ('novilhas', 5), ('bodes', 11)])"
            ]
          },
          "metadata": {},
          "execution_count": 11
        }
      ]
    },
    {
      "cell_type": "code",
      "source": [
        "#Trazendo somente as chaves\n",
        "rebanho.keys()"
      ],
      "metadata": {
        "colab": {
          "base_uri": "https://localhost:8080/"
        },
        "id": "4cZ986AOamrT",
        "outputId": "ccbac590-c15e-4fb3-ca95-7efedb99db63"
      },
      "execution_count": 12,
      "outputs": [
        {
          "output_type": "execute_result",
          "data": {
            "text/plain": [
              "dict_keys(['ovelhas', 'novilhas', 'bodes'])"
            ]
          },
          "metadata": {},
          "execution_count": 12
        }
      ]
    },
    {
      "cell_type": "code",
      "source": [
        "#Trazendo somente os valores\n",
        "rebanho.values()"
      ],
      "metadata": {
        "colab": {
          "base_uri": "https://localhost:8080/"
        },
        "id": "h64p8KjLat7i",
        "outputId": "5d18fe49-1933-4767-e3e3-273e7451e0fe"
      },
      "execution_count": 13,
      "outputs": [
        {
          "output_type": "execute_result",
          "data": {
            "text/plain": [
              "dict_values([32, 5, 11])"
            ]
          },
          "metadata": {},
          "execution_count": 13
        }
      ]
    },
    {
      "cell_type": "code",
      "source": [
        "rebanho2 = {'zebra':4,'elefante':6,'leao':20}\n",
        "print(rebanho2)"
      ],
      "metadata": {
        "colab": {
          "base_uri": "https://localhost:8080/"
        },
        "id": "LE_-Hkzza2u0",
        "outputId": "8ab6fd37-1095-4193-a25c-fdd6b16fa675"
      },
      "execution_count": 14,
      "outputs": [
        {
          "output_type": "stream",
          "name": "stdout",
          "text": [
            "{'zebra': 4, 'elefante': 6, 'leao': 20}\n"
          ]
        }
      ]
    },
    {
      "cell_type": "code",
      "source": [
        "#Fazendo um Update nos dicionário, unindo dois dicionários\n",
        "rebanho.update(rebanho2)\n",
        "print(rebanho)"
      ],
      "metadata": {
        "colab": {
          "base_uri": "https://localhost:8080/"
        },
        "id": "o27VCKMQbYKx",
        "outputId": "fbae5332-df9a-4994-bded-85d69b0687e6"
      },
      "execution_count": 16,
      "outputs": [
        {
          "output_type": "stream",
          "name": "stdout",
          "text": [
            "{'ovelhas': 32, 'novilhas': 5, 'bodes': 11, 'zebra': 4, 'elefante': 6, 'leao': 20}\n"
          ]
        }
      ]
    },
    {
      "cell_type": "code",
      "source": [
        "rebanho.items()"
      ],
      "metadata": {
        "colab": {
          "base_uri": "https://localhost:8080/"
        },
        "id": "0TkEYIORcgNo",
        "outputId": "a63fee5b-5005-4c17-fe36-eb1084365d79"
      },
      "execution_count": 17,
      "outputs": [
        {
          "output_type": "execute_result",
          "data": {
            "text/plain": [
              "dict_items([('ovelhas', 32), ('novilhas', 5), ('bodes', 11), ('zebra', 4), ('elefante', 6), ('leao', 20)])"
            ]
          },
          "metadata": {},
          "execution_count": 17
        }
      ]
    },
    {
      "cell_type": "code",
      "source": [
        "#Percorrendo um dicionário com o for usando duas variáveis\n",
        "for especie, qtd_especies in rebanho.items():\n",
        "  print(especie,qtd_especies)"
      ],
      "metadata": {
        "colab": {
          "base_uri": "https://localhost:8080/"
        },
        "id": "JlEai4kIY6Te",
        "outputId": "98991a44-fdaa-40bd-9d34-53b8c740139d"
      },
      "execution_count": 20,
      "outputs": [
        {
          "output_type": "stream",
          "name": "stdout",
          "text": [
            "ovelhas 32\n",
            "novilhas 5\n",
            "bodes 11\n",
            "zebra 4\n",
            "elefante 6\n",
            "leao 20\n"
          ]
        }
      ]
    },
    {
      "cell_type": "markdown",
      "source": [
        "**Conjuntos (Set)**"
      ],
      "metadata": {
        "id": "R6z4cvIzDQTZ"
      }
    },
    {
      "cell_type": "code",
      "source": [
        "#O conceito de conjuntos é que eles trazem apenas os elementos que não se repetem\n",
        "#Ele é uma tupla, porém podemos selecionar apenas os elementos que não se repetem\n",
        "mamiferos = ('gato', 'baleia', 'cachorro', 'homem', 'baleia','vaca','gato','homem',\n",
        "            'cachorro','gato', 'baleia', 'cachorro', 'homem', 'baleia','vaca','gato','homem','cachorro')\n",
        "#Observe o USO do SET que represento os conjuntos\n",
        "set(mamiferos)\n",
        "#ambas as formas funcionam\n",
        "print(set(mamiferos))"
      ],
      "metadata": {
        "id": "MBEarhpMDagl",
        "colab": {
          "base_uri": "https://localhost:8080/"
        },
        "outputId": "10520ee2-9093-4491-b996-61643048c06a"
      },
      "execution_count": 25,
      "outputs": [
        {
          "output_type": "stream",
          "name": "stdout",
          "text": [
            "{'baleia', 'gato', 'homem', 'vaca', 'cachorro'}\n"
          ]
        }
      ]
    },
    {
      "cell_type": "code",
      "source": [
        "#Criando conjuntos e trazendo a intercessão de seus valores, ou seja, apenas os que se repetem entre dois conjuntos\n",
        "#Observe que aqui é utilizado as chaves e não os parenteses como nas tuplas\n",
        "conj1 = {1,2,3,4,5}\n",
        "conj2 = {3,4,5,6,7}\n",
        "conj3 = conj1.intersection(conj2)\n",
        "print(conj3)"
      ],
      "metadata": {
        "colab": {
          "base_uri": "https://localhost:8080/"
        },
        "id": "HjRCL1L9flcr",
        "outputId": "59339d05-b580-4a3f-82cb-144824d04cfb"
      },
      "execution_count": 26,
      "outputs": [
        {
          "output_type": "stream",
          "name": "stdout",
          "text": [
            "{3, 4, 5}\n"
          ]
        }
      ]
    },
    {
      "cell_type": "code",
      "source": [
        "#Trazendo a diferença entre dois conjunto\n",
        "#Apenas a diferença do conj1\n",
        "dif = conj1.difference(conj2)\n",
        "print(dif)"
      ],
      "metadata": {
        "colab": {
          "base_uri": "https://localhost:8080/"
        },
        "id": "cCZ9JLvFgtbm",
        "outputId": "75f1c77e-d490-40ae-f92d-815ea4932b9b"
      },
      "execution_count": 30,
      "outputs": [
        {
          "output_type": "stream",
          "name": "stdout",
          "text": [
            "{1, 2}\n"
          ]
        }
      ]
    },
    {
      "cell_type": "code",
      "source": [
        "dife = conj2.difference(conj1)\n",
        "print(dife)"
      ],
      "metadata": {
        "colab": {
          "base_uri": "https://localhost:8080/"
        },
        "id": "6mLwlXOZhkOj",
        "outputId": "07fa78fa-cfb6-4786-8ab1-21261bcef78e"
      },
      "execution_count": 31,
      "outputs": [
        {
          "output_type": "stream",
          "name": "stdout",
          "text": [
            "{6, 7}\n"
          ]
        }
      ]
    }
  ]
}