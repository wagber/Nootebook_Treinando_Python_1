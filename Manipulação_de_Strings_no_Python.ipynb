{
  "nbformat": 4,
  "nbformat_minor": 0,
  "metadata": {
    "colab": {
      "name": "Manipulação de Strings no Python.ipynb",
      "provenance": [],
      "authorship_tag": "ABX9TyMnIDBjrXh9fel7P636wv4r",
      "include_colab_link": true
    },
    "kernelspec": {
      "name": "python3",
      "display_name": "Python 3"
    },
    "language_info": {
      "name": "python"
    }
  },
  "cells": [
    {
      "cell_type": "markdown",
      "metadata": {
        "id": "view-in-github",
        "colab_type": "text"
      },
      "source": [
        "<a href=\"https://colab.research.google.com/github/wagber/Nootebook_Treinando_Python_1/blob/main/Manipula%C3%A7%C3%A3o_de_Strings_no_Python.ipynb\" target=\"_parent\"><img src=\"https://colab.research.google.com/assets/colab-badge.svg\" alt=\"Open In Colab\"/></a>"
      ]
    },
    {
      "cell_type": "markdown",
      "source": [
        "**Manipulação de Strings**"
      ],
      "metadata": {
        "id": "jJuZsbOmeoFo"
      }
    },
    {
      "cell_type": "code",
      "source": [
        "a = 'casaco'\n",
        "print(a)"
      ],
      "metadata": {
        "colab": {
          "base_uri": "https://localhost:8080/"
        },
        "id": "4j_NjUboesnq",
        "outputId": "24787add-8ef3-4d7f-920b-0574548d0df0"
      },
      "execution_count": null,
      "outputs": [
        {
          "output_type": "stream",
          "name": "stdout",
          "text": [
            "casaco\n"
          ]
        }
      ]
    },
    {
      "cell_type": "code",
      "source": [
        "#Transformar uma string em Maiúscula\n",
        "maiusculo = a.upper()\n",
        "print(maiusculo)"
      ],
      "metadata": {
        "colab": {
          "base_uri": "https://localhost:8080/"
        },
        "id": "hQ5K2x3mmgpb",
        "outputId": "d61ae401-284b-4bed-a012-f476ae6df6fd"
      },
      "execution_count": null,
      "outputs": [
        {
          "output_type": "stream",
          "name": "stdout",
          "text": [
            "CASACO\n"
          ]
        }
      ]
    },
    {
      "cell_type": "code",
      "source": [
        "#Transformar uma string em Minúscula\n",
        "minuscula = maiusculo.lower()\n",
        "print(minuscula)"
      ],
      "metadata": {
        "colab": {
          "base_uri": "https://localhost:8080/"
        },
        "id": "IFnVjxVIoOA7",
        "outputId": "4192aa31-d55b-4048-8f55-ba8ca705c516"
      },
      "execution_count": null,
      "outputs": [
        {
          "output_type": "stream",
          "name": "stdout",
          "text": [
            "casaco\n"
          ]
        }
      ]
    },
    {
      "cell_type": "code",
      "source": [
        "#Transformar a primeira letra de uma string em Maiúscula\n",
        "capital = a.capitalize()\n",
        "print(capital)"
      ],
      "metadata": {
        "colab": {
          "base_uri": "https://localhost:8080/"
        },
        "id": "WoKM49VLoctR",
        "outputId": "a1b63ca4-bc9c-42a2-8cbe-054f6d0d160e"
      },
      "execution_count": null,
      "outputs": [
        {
          "output_type": "stream",
          "name": "stdout",
          "text": [
            "Casaco\n"
          ]
        }
      ]
    },
    {
      "cell_type": "code",
      "source": [
        "#Trazendo apenas uma parte da palavra pelos indices indo do 0 até o 2 pois o 3 é o limitador que identifica que é até ao 2.\n",
        "metade_palavra = a[0:3]\n",
        "print(metade_palavra)"
      ],
      "metadata": {
        "colab": {
          "base_uri": "https://localhost:8080/"
        },
        "id": "3cwAaqhppAz2",
        "outputId": "75da1a69-b85d-468f-d816-ca3bb1ccd6c7"
      },
      "execution_count": null,
      "outputs": [
        {
          "output_type": "stream",
          "name": "stdout",
          "text": [
            "cas\n"
          ]
        }
      ]
    },
    {
      "cell_type": "code",
      "source": [
        "#Trasendo as últimas letras\n",
        "ultima_letra = a[3:]\n",
        "print(ultima_letra)"
      ],
      "metadata": {
        "colab": {
          "base_uri": "https://localhost:8080/"
        },
        "id": "ASLTrJ-7pyrH",
        "outputId": "34f26cb4-b038-48c1-d59e-d52806e00b06"
      },
      "execution_count": null,
      "outputs": [
        {
          "output_type": "stream",
          "name": "stdout",
          "text": [
            "aco\n"
          ]
        }
      ]
    },
    {
      "cell_type": "code",
      "source": [
        "#Trocando caracter\n",
        "b = a.replace('aco', 'inha')\n",
        "print(a)\n",
        "print(b)"
      ],
      "metadata": {
        "colab": {
          "base_uri": "https://localhost:8080/"
        },
        "id": "ye7aVy2ysyH3",
        "outputId": "b7e09217-6484-4263-c1a7-52e2126806ab"
      },
      "execution_count": null,
      "outputs": [
        {
          "output_type": "stream",
          "name": "stdout",
          "text": [
            "casaco\n",
            "casinha\n"
          ]
        }
      ]
    },
    {
      "cell_type": "code",
      "source": [
        "c = a.replace('o', 'a')\n",
        "print(c)"
      ],
      "metadata": {
        "colab": {
          "base_uri": "https://localhost:8080/"
        },
        "id": "0O0d0uMltD11",
        "outputId": "61f93a7b-f0d9-497b-8015-7b518270b585"
      },
      "execution_count": null,
      "outputs": [
        {
          "output_type": "stream",
          "name": "stdout",
          "text": [
            "casaca\n"
          ]
        }
      ]
    },
    {
      "cell_type": "code",
      "source": [
        "d = 'cosoco'\n",
        "e = d.replace('o','a')\n",
        "print(d)\n",
        "print(e)"
      ],
      "metadata": {
        "colab": {
          "base_uri": "https://localhost:8080/"
        },
        "id": "FKGbY9ooteMw",
        "outputId": "380f73ad-75f4-44b3-a08b-e36c8e1fbb8b"
      },
      "execution_count": null,
      "outputs": [
        {
          "output_type": "stream",
          "name": "stdout",
          "text": [
            "cosoco\n",
            "casaca\n"
          ]
        }
      ]
    },
    {
      "cell_type": "code",
      "source": [
        "#Localizando a primeira posição do índice de um caracter. Caso tenha mais de um caracter que se repete ele trará apenas o primeiro localizado\n",
        "c.find('s')"
      ],
      "metadata": {
        "colab": {
          "base_uri": "https://localhost:8080/"
        },
        "id": "Wpclo9YcuWru",
        "outputId": "cb195926-f7b5-4b88-8145-e38d6f3f7703"
      },
      "execution_count": null,
      "outputs": [
        {
          "output_type": "execute_result",
          "data": {
            "text/plain": [
              "2"
            ]
          },
          "metadata": {},
          "execution_count": 17
        }
      ]
    },
    {
      "cell_type": "code",
      "source": [
        "c.find('a')"
      ],
      "metadata": {
        "colab": {
          "base_uri": "https://localhost:8080/"
        },
        "id": "l5wN0-hXusuw",
        "outputId": "014b1e3e-e178-437f-e4f0-e74624759348"
      },
      "execution_count": null,
      "outputs": [
        {
          "output_type": "execute_result",
          "data": {
            "text/plain": [
              "1"
            ]
          },
          "metadata": {},
          "execution_count": 19
        }
      ]
    },
    {
      "cell_type": "code",
      "source": [
        "#Caso não encontre o caracter ele vai retornar -1\n",
        "c.find('b')"
      ],
      "metadata": {
        "colab": {
          "base_uri": "https://localhost:8080/"
        },
        "id": "5wbdPVd8vMS0",
        "outputId": "9d2836f1-4b7f-4cac-8a2b-33713486a02f"
      },
      "execution_count": null,
      "outputs": [
        {
          "output_type": "execute_result",
          "data": {
            "text/plain": [
              "-1"
            ]
          },
          "metadata": {},
          "execution_count": 20
        }
      ]
    },
    {
      "cell_type": "code",
      "source": [
        "#Identificando do tamanho pelo comprimento de uma string\n",
        "f = ' casaco '\n",
        "print(len(f))"
      ],
      "metadata": {
        "colab": {
          "base_uri": "https://localhost:8080/"
        },
        "id": "MptLIe_qvV8r",
        "outputId": "cb0b87e8-0e29-474c-ca3b-98bb58ad362f"
      },
      "execution_count": null,
      "outputs": [
        {
          "output_type": "stream",
          "name": "stdout",
          "text": [
            "8\n"
          ]
        }
      ]
    },
    {
      "cell_type": "code",
      "source": [
        "#Retirando espaços de uma string, seja antes ou depois.\n",
        "g = f.strip()\n",
        "print(g)\n",
        "print(len(g))"
      ],
      "metadata": {
        "colab": {
          "base_uri": "https://localhost:8080/"
        },
        "id": "Dn3gWP8ewGFg",
        "outputId": "3ec1da0e-1395-4d80-99db-478235e65347"
      },
      "execution_count": null,
      "outputs": [
        {
          "output_type": "stream",
          "name": "stdout",
          "text": [
            "casaco\n",
            "6\n"
          ]
        }
      ]
    },
    {
      "cell_type": "code",
      "source": [
        "#Format - Acessando valores de uma variável dentro de uma string usando a formatação de strings\n",
        "n1 = 14\n",
        "n2 = 16\n",
        "print(f'Dividindo {n1} por {n2} o resultado é {n1/n2}')"
      ],
      "metadata": {
        "colab": {
          "base_uri": "https://localhost:8080/"
        },
        "id": "Ck7n8Zx_wvhf",
        "outputId": "f085a20a-8706-42f1-dded-80e0063af4bf"
      },
      "execution_count": null,
      "outputs": [
        {
          "output_type": "stream",
          "name": "stdout",
          "text": [
            "Dividindo 14 por 16 o resultado é 0.875\n"
          ]
        }
      ]
    }
  ]
}