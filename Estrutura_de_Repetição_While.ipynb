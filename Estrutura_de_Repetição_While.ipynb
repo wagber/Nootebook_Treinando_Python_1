{
  "nbformat": 4,
  "nbformat_minor": 0,
  "metadata": {
    "colab": {
      "name": "Estrutura de Repetição - While.ipynb",
      "provenance": [],
      "authorship_tag": "ABX9TyM2MABFS2ZV1RCWHbdeFmnc",
      "include_colab_link": true
    },
    "kernelspec": {
      "name": "python3",
      "display_name": "Python 3"
    },
    "language_info": {
      "name": "python"
    }
  },
  "cells": [
    {
      "cell_type": "markdown",
      "metadata": {
        "id": "view-in-github",
        "colab_type": "text"
      },
      "source": [
        "<a href=\"https://colab.research.google.com/github/wagber/Nootebook_Treinando_Python_1/blob/main/Estrutura_de_Repeti%C3%A7%C3%A3o_While.ipynb\" target=\"_parent\"><img src=\"https://colab.research.google.com/assets/colab-badge.svg\" alt=\"Open In Colab\"/></a>"
      ]
    },
    {
      "cell_type": "markdown",
      "source": [
        "**Estrutura de Repetição - While**"
      ],
      "metadata": {
        "id": "2_lOu6h1jIQV"
      }
    },
    {
      "cell_type": "code",
      "source": [
        "#Quando trabalhamos com while temos que definir:\n",
        "#uma variável fora do while\n",
        "numero = 1\n",
        "#condição\n",
        "while numero < 6:\n",
        "  print(numero)\n",
        "  #e um incremento\n",
        "  numero += 1"
      ],
      "metadata": {
        "id": "wVVCXm5cjM8G",
        "colab": {
          "base_uri": "https://localhost:8080/"
        },
        "outputId": "78273564-b528-4fdb-a985-17ae81a77646"
      },
      "execution_count": 3,
      "outputs": [
        {
          "output_type": "stream",
          "name": "stdout",
          "text": [
            "1\n",
            "2\n",
            "3\n",
            "4\n",
            "5\n"
          ]
        }
      ]
    },
    {
      "cell_type": "code",
      "source": [
        "numero = 5\n",
        "while numero > 0:\n",
        "  print(numero)\n",
        "  numero -= 1"
      ],
      "metadata": {
        "colab": {
          "base_uri": "https://localhost:8080/"
        },
        "id": "CjEr3C9gdnIC",
        "outputId": "9cea5660-f529-4599-f025-80fa1a5b755b"
      },
      "execution_count": 5,
      "outputs": [
        {
          "output_type": "stream",
          "name": "stdout",
          "text": [
            "5\n",
            "4\n",
            "3\n",
            "2\n",
            "1\n"
          ]
        }
      ]
    },
    {
      "cell_type": "code",
      "source": [
        "#Somando diversos valores\n",
        "1 + 2 + 3 + 4 + 5"
      ],
      "metadata": {
        "colab": {
          "base_uri": "https://localhost:8080/"
        },
        "id": "IlOCpGxWfcLv",
        "outputId": "cd07e28b-848f-4469-9613-ce3dea6b810c"
      },
      "execution_count": 6,
      "outputs": [
        {
          "output_type": "execute_result",
          "data": {
            "text/plain": [
              "15"
            ]
          },
          "metadata": {},
          "execution_count": 6
        }
      ]
    },
    {
      "cell_type": "code",
      "source": [
        "soma = 0\n",
        "numero = 1\n",
        "while numero < 6:\n",
        "  soma += numero\n",
        "  numero +=1\n",
        "print(soma)"
      ],
      "metadata": {
        "colab": {
          "base_uri": "https://localhost:8080/"
        },
        "id": "5SwPmeRafpmb",
        "outputId": "eb0f2b52-a06f-48f5-b4bd-4eb1bde820d9"
      },
      "execution_count": 13,
      "outputs": [
        {
          "output_type": "stream",
          "name": "stdout",
          "text": [
            "15\n"
          ]
        }
      ]
    },
    {
      "cell_type": "code",
      "source": [
        "soma = 0\n",
        "for numero in range(1,6):\n",
        "    soma += numero\n",
        "print(soma)"
      ],
      "metadata": {
        "colab": {
          "base_uri": "https://localhost:8080/"
        },
        "id": "5KiE945fhaa-",
        "outputId": "10bec074-d6d2-4880-ad64-aee20cf1804e"
      },
      "execution_count": 28,
      "outputs": [
        {
          "output_type": "stream",
          "name": "stdout",
          "text": [
            "15\n"
          ]
        }
      ]
    },
    {
      "cell_type": "code",
      "source": [
        "soma = 0\n",
        "for nota in range(1,6):\n",
        "  nota = int(input('Digite a nota '))\n",
        "  soma += nota\n",
        "print(soma)"
      ],
      "metadata": {
        "id": "FNkaLLY_nr8C"
      },
      "execution_count": null,
      "outputs": []
    },
    {
      "cell_type": "code",
      "source": [
        "#A variável nasce com a condição falsa. Caso nasça verdadeira o while não vai executar as condições.\n",
        "numero = -1\n",
        "while numero < 1 or numero > 10:\n",
        "  numero = int(input('Digite um número de 1 até 10 '))\n"
      ],
      "metadata": {
        "colab": {
          "base_uri": "https://localhost:8080/"
        },
        "id": "72ijgNVYiaVH",
        "outputId": "7b693b32-f3e0-4426-8c9e-ec18c3cecae4"
      },
      "execution_count": 27,
      "outputs": [
        {
          "name": "stdout",
          "output_type": "stream",
          "text": [
            "Digite um número de 1 até 10 10\n"
          ]
        }
      ]
    }
  ]
}