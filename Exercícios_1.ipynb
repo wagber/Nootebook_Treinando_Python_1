{
  "nbformat": 4,
  "nbformat_minor": 0,
  "metadata": {
    "colab": {
      "name": "Exercícios 1.ipynb",
      "provenance": [],
      "authorship_tag": "ABX9TyPB6EP8z1MgQ6G9+RvhnWxE",
      "include_colab_link": true
    },
    "kernelspec": {
      "name": "python3",
      "display_name": "Python 3"
    },
    "language_info": {
      "name": "python"
    }
  },
  "cells": [
    {
      "cell_type": "markdown",
      "metadata": {
        "id": "view-in-github",
        "colab_type": "text"
      },
      "source": [
        "<a href=\"https://colab.research.google.com/github/wagber/Nootebook_Treinando_Python_1/blob/main/Exerc%C3%ADcios_1.ipynb\" target=\"_parent\"><img src=\"https://colab.research.google.com/assets/colab-badge.svg\" alt=\"Open In Colab\"/></a>"
      ]
    },
    {
      "cell_type": "markdown",
      "source": [
        "**Exercício**\n",
        "\n",
        "1 -Ler dois números inteiros, executar e mostrar o resultado das seguintes operações: adição, subtração, multiplicação e divisão"
      ],
      "metadata": {
        "id": "n85vTvZ888Zr"
      }
    },
    {
      "cell_type": "code",
      "source": [
        "a = int(input('Digite um número para A '))\n",
        "b = int(input('Digite um número para B '))\n",
        "#----------------------------------------\n",
        "print(f'O valor de a é {a} e o valor de b é {b}')\n",
        "#----------------------------------------\n",
        "print('A soma de a + b é =',a + b)\n",
        "print('A subtração de a - b é =',a - b)\n",
        "print('A multiplicação de a * b é =',a * b)\n",
        "print('A divisão de a / b é =',round((a / b),2))\n",
        "#-----------------------------------------\n",
        "adicao = a + b\n",
        "subtracao = a - b\n",
        "multiplicacao = a * b\n",
        "divisao = round((a / b),2)\n",
        "\n",
        "print(f'A soma de a + b é = {adicao}')\n",
        "print(f'A subtração de a - b é = {subtracao}')\n",
        "print(f'A multiplicação de a * b é = {multiplicacao}')\n",
        "print(f'A divisão de a / b é = {divisao}')"
      ],
      "metadata": {
        "colab": {
          "base_uri": "https://localhost:8080/"
        },
        "id": "lG-AtyxZ9Nfz",
        "outputId": "deae5aa6-b009-4843-fbac-f7e350d8c917"
      },
      "execution_count": null,
      "outputs": [
        {
          "output_type": "stream",
          "name": "stdout",
          "text": [
            "Digite um número para A 5\n",
            "Digite um número para B 3\n",
            "O valor de a é 5 e o valor de b é 3\n",
            "A soma de a + b é = 8\n",
            "A subtração de a - b é = 2\n",
            "A multiplicação de a * b é = 15\n",
            "A divisão de a / b é = 1.67\n",
            "A soma de a + b é = 8\n",
            "A subtração de a - b é = 2\n",
            "A multiplicação de a * b é = 15\n",
            "A divisão de a / b é = 1.67\n"
          ]
        }
      ]
    },
    {
      "cell_type": "markdown",
      "source": [
        "**Ecercício 2**\n",
        "\n",
        "Efetuar o cálculo da quantidade de litros de combustível gasto em uma viagem, utilizando um automóvel que faz 12 Km por litro. Para obter o cálculo, o usuário deve fornecer o tempo gasto na viagem e a velocidade média durante ela. Desta forma, será possível obter a distância percorrida com a fórmula DISTANCIA = TEMPO * VELOCIDADE. Tendo o valor da distância, basta calcular a quantidade de litros de combustível utilizada na viagem, com a fórmula: LITROS_USADOS = DISTANCIA / 12. O programa deve apresentar os valores da velocidade média, tempo gasto na viagem, a distância percorrida e a quantidade de litros utilizada na viagem"
      ],
      "metadata": {
        "id": "OfWafFZn9N-c"
      }
    },
    {
      "cell_type": "code",
      "source": [
        "tempo = float(input('O tempo da viagem em horas é: '))\n",
        "velocidade = float(input('A velocidade do veículo na viagem foi: '))\n",
        "km_litro = float(input('Meu veículo faz por quilometro um total em litros de combustível de: '))\n",
        "print(f'O tempo da viagem foi {tempo} horas, a uma velocidade média de {velocidade} Km/h')\n",
        "distancia = tempo * velocidade\n",
        "litros_usados = round((distancia / km_litro),2)\n",
        "print(f'A distância percorrida foi de {distancia} Km e a quantidade de litros utilizada nessa viagem foi de {litros_usados}')"
      ],
      "metadata": {
        "colab": {
          "base_uri": "https://localhost:8080/"
        },
        "id": "2E54JZLH9ZZd",
        "outputId": "28bdad71-d336-4b32-bd53-fd8ba9f8771e"
      },
      "execution_count": null,
      "outputs": [
        {
          "output_type": "stream",
          "name": "stdout",
          "text": [
            "O tempo da viagem em horas é: 2\n",
            "A velocidade do veículo na viagem foi: 80\n",
            "Meu veículo faz por quilometro um total em litros de combustível de: 12\n",
            "O tempo da viagem foi 2.0 horas, a uma velocidade média de 80.0 Km/h\n",
            "A distância percorrida foi de 160.0 Km e a quantidade de litros utilizada nessa viagem foi de 13.33\n"
          ]
        }
      ]
    }
  ]
}