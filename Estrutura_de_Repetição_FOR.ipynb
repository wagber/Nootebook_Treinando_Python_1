{
  "nbformat": 4,
  "nbformat_minor": 0,
  "metadata": {
    "colab": {
      "name": "Estrutura de Repetição - FOR.ipynb",
      "provenance": [],
      "authorship_tag": "ABX9TyOV/3i+BPcK684u/kCd5bTn",
      "include_colab_link": true
    },
    "kernelspec": {
      "name": "python3",
      "display_name": "Python 3"
    },
    "language_info": {
      "name": "python"
    }
  },
  "cells": [
    {
      "cell_type": "markdown",
      "metadata": {
        "id": "view-in-github",
        "colab_type": "text"
      },
      "source": [
        "<a href=\"https://colab.research.google.com/github/wagber/Nootebook_Treinando_Python_1/blob/main/Estrutura_de_Repeti%C3%A7%C3%A3o_FOR.ipynb\" target=\"_parent\"><img src=\"https://colab.research.google.com/assets/colab-badge.svg\" alt=\"Open In Colab\"/></a>"
      ]
    },
    {
      "cell_type": "markdown",
      "source": [
        "**Estrutura de Repetição - FOR**"
      ],
      "metadata": {
        "id": "X2T1bzZGXQnv"
      }
    },
    {
      "cell_type": "code",
      "source": [
        "print(1)\n",
        "print(2)\n",
        "print(3)\n",
        "print(4)\n",
        "print(5)"
      ],
      "metadata": {
        "colab": {
          "base_uri": "https://localhost:8080/"
        },
        "id": "MyNJQMusXUmA",
        "outputId": "abaa38ca-7d97-4ccd-9373-6080dad9b62a"
      },
      "execution_count": null,
      "outputs": [
        {
          "output_type": "stream",
          "name": "stdout",
          "text": [
            "1\n",
            "2\n",
            "3\n",
            "4\n",
            "5\n"
          ]
        }
      ]
    },
    {
      "cell_type": "code",
      "source": [
        "#O for funciona como um contador sendo o (numero) o nome de uma variável qualquer. \n",
        "#O for e o in fazem parte da estrutura que diz: for = para e o in = no ou na\n",
        "#O range é o tamanho do intervalo que deve ser contado, de um valor inicial até ao final\n",
        "#Uperbound é o delimitador. No caso ao colocarmos o 6 queremos dizer que vai até o 5\n",
        "for numero in range (1 , 6):\n",
        "  print(numero)"
      ],
      "metadata": {
        "colab": {
          "base_uri": "https://localhost:8080/"
        },
        "id": "yYGx0mIsXusp",
        "outputId": "61671626-0250-41aa-e338-46f65e276c61"
      },
      "execution_count": null,
      "outputs": [
        {
          "output_type": "stream",
          "name": "stdout",
          "text": [
            "1\n",
            "2\n",
            "3\n",
            "4\n",
            "5\n"
          ]
        }
      ]
    },
    {
      "cell_type": "code",
      "source": [
        "#O terceiro parametro é por padrão o que incrementa de um em um e não precisamos colocar, mas no caso que deva ser mais que 1 ou menor que 1,\n",
        "#no caso de um decremento de um em um, usamos o -1 no terceiro parametro.\n",
        "for numero in range (5, 0, -1):\n",
        "  print(numero)"
      ],
      "metadata": {
        "colab": {
          "base_uri": "https://localhost:8080/"
        },
        "id": "l_wkR49naKQR",
        "outputId": "105b7752-ab8d-491d-8084-1cd6d96db478"
      },
      "execution_count": null,
      "outputs": [
        {
          "output_type": "stream",
          "name": "stdout",
          "text": [
            "5\n",
            "4\n",
            "3\n",
            "2\n",
            "1\n"
          ]
        }
      ]
    },
    {
      "cell_type": "code",
      "source": [
        "5 + 4 + 3 + 2 + 1"
      ],
      "metadata": {
        "colab": {
          "base_uri": "https://localhost:8080/"
        },
        "id": "HgE1jFPYd5A-",
        "outputId": "e473bffb-1310-41d2-a200-9197c90bff66"
      },
      "execution_count": null,
      "outputs": [
        {
          "output_type": "execute_result",
          "data": {
            "text/plain": [
              "15"
            ]
          },
          "metadata": {},
          "execution_count": 12
        }
      ]
    },
    {
      "cell_type": "code",
      "source": [
        "soma = 0\n",
        "\n",
        "for x in range (5,0,-1):\n",
        "  soma += x\n",
        "  print(soma)\n",
        "  \n",
        "print(f'A soma é igua a {soma}')"
      ],
      "metadata": {
        "colab": {
          "base_uri": "https://localhost:8080/"
        },
        "id": "iI3v11OVYtnX",
        "outputId": "796ab8cc-6651-46c2-837e-7440ede50f12"
      },
      "execution_count": null,
      "outputs": [
        {
          "output_type": "stream",
          "name": "stdout",
          "text": [
            "5\n",
            "9\n",
            "12\n",
            "14\n",
            "15\n",
            "A soma é igua a 15\n"
          ]
        }
      ]
    },
    {
      "cell_type": "code",
      "source": [
        "palavra = 'sorvete'\n",
        "for letra in palavra:\n",
        "  print(letra)"
      ],
      "metadata": {
        "id": "AYg_Wg6n-LEY",
        "colab": {
          "base_uri": "https://localhost:8080/"
        },
        "outputId": "f2802f31-c784-4fe6-ab1c-1f0d0e3029d0"
      },
      "execution_count": null,
      "outputs": [
        {
          "output_type": "stream",
          "name": "stdout",
          "text": [
            "s\n",
            "o\n",
            "r\n",
            "v\n",
            "e\n",
            "t\n",
            "e\n"
          ]
        }
      ]
    },
    {
      "cell_type": "code",
      "source": [
        "texto = 'palavra'\n",
        "for letra in texto:\n",
        "  #print(texto)\n",
        "  if letra == 'v':\n",
        "    print('Achou a letra V')"
      ],
      "metadata": {
        "colab": {
          "base_uri": "https://localhost:8080/"
        },
        "id": "Ax66ExX2FdnG",
        "outputId": "0316c8d9-7005-4f28-868a-5262a0af6505"
      },
      "execution_count": null,
      "outputs": [
        {
          "output_type": "stream",
          "name": "stdout",
          "text": [
            "Achou a letra V\n"
          ]
        }
      ]
    },
    {
      "cell_type": "code",
      "source": [
        "for i in range(0,5):\n",
        "  print('----')\n",
        "  print(i)\n",
        "  print('----')\n",
        "  for j in range(4,0,-1):\n",
        "    print(j)\n",
        "    "
      ],
      "metadata": {
        "colab": {
          "base_uri": "https://localhost:8080/"
        },
        "id": "TMytMvdlg7q7",
        "outputId": "94b3798e-6c32-4009-8949-3793ce808988"
      },
      "execution_count": null,
      "outputs": [
        {
          "output_type": "stream",
          "name": "stdout",
          "text": [
            "----\n",
            "0\n",
            "----\n",
            "4\n",
            "3\n",
            "2\n",
            "1\n",
            "----\n",
            "1\n",
            "----\n",
            "4\n",
            "3\n",
            "2\n",
            "1\n",
            "----\n",
            "2\n",
            "----\n",
            "4\n",
            "3\n",
            "2\n",
            "1\n",
            "----\n",
            "3\n",
            "----\n",
            "4\n",
            "3\n",
            "2\n",
            "1\n",
            "----\n",
            "4\n",
            "----\n",
            "4\n",
            "3\n",
            "2\n",
            "1\n"
          ]
        }
      ]
    }
  ]
}