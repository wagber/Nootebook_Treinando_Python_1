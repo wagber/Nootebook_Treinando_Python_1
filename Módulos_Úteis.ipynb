{
  "nbformat": 4,
  "nbformat_minor": 0,
  "metadata": {
    "colab": {
      "name": " Módulos Úteis.ipynb",
      "provenance": [],
      "authorship_tag": "ABX9TyP3adDlzselh9CFQRjVuTYx",
      "include_colab_link": true
    },
    "kernelspec": {
      "name": "python3",
      "display_name": "Python 3"
    },
    "language_info": {
      "name": "python"
    }
  },
  "cells": [
    {
      "cell_type": "markdown",
      "metadata": {
        "id": "view-in-github",
        "colab_type": "text"
      },
      "source": [
        "<a href=\"https://colab.research.google.com/github/wagber/Nootebook_Treinando_Python_1/blob/main/M%C3%B3dulos_%C3%9Ateis.ipynb\" target=\"_parent\"><img src=\"https://colab.research.google.com/assets/colab-badge.svg\" alt=\"Open In Colab\"/></a>"
      ]
    },
    {
      "cell_type": "markdown",
      "source": [
        "##Módulos Úteis\n",
        "\n"
      ],
      "metadata": {
        "id": "mJrK0F6_F4Eg"
      }
    },
    {
      "cell_type": "markdown",
      "source": [
        "##Biblioteca Math\n",
        "\n",
        "https://docs.python.org/pt-br/3/library/math.html"
      ],
      "metadata": {
        "id": "2iSY-UI-yEBw"
      }
    },
    {
      "cell_type": "code",
      "source": [
        "import math"
      ],
      "metadata": {
        "id": "D976q2vYyUt6"
      },
      "execution_count": null,
      "outputs": []
    },
    {
      "cell_type": "code",
      "source": [
        "#Todas as opções e funções existentes dentro da biblioteca Math.\n",
        "dir(math)"
      ],
      "metadata": {
        "colab": {
          "base_uri": "https://localhost:8080/"
        },
        "id": "uqD01pVK3XGx",
        "outputId": "ae5b62f6-d9fe-43dc-c369-9876bdc5b15a"
      },
      "execution_count": null,
      "outputs": [
        {
          "output_type": "execute_result",
          "data": {
            "text/plain": [
              "['__doc__',\n",
              " '__loader__',\n",
              " '__name__',\n",
              " '__package__',\n",
              " '__spec__',\n",
              " 'acos',\n",
              " 'acosh',\n",
              " 'asin',\n",
              " 'asinh',\n",
              " 'atan',\n",
              " 'atan2',\n",
              " 'atanh',\n",
              " 'ceil',\n",
              " 'copysign',\n",
              " 'cos',\n",
              " 'cosh',\n",
              " 'degrees',\n",
              " 'e',\n",
              " 'erf',\n",
              " 'erfc',\n",
              " 'exp',\n",
              " 'expm1',\n",
              " 'fabs',\n",
              " 'factorial',\n",
              " 'floor',\n",
              " 'fmod',\n",
              " 'frexp',\n",
              " 'fsum',\n",
              " 'gamma',\n",
              " 'gcd',\n",
              " 'hypot',\n",
              " 'inf',\n",
              " 'isclose',\n",
              " 'isfinite',\n",
              " 'isinf',\n",
              " 'isnan',\n",
              " 'ldexp',\n",
              " 'lgamma',\n",
              " 'log',\n",
              " 'log10',\n",
              " 'log1p',\n",
              " 'log2',\n",
              " 'modf',\n",
              " 'nan',\n",
              " 'pi',\n",
              " 'pow',\n",
              " 'radians',\n",
              " 'remainder',\n",
              " 'sin',\n",
              " 'sinh',\n",
              " 'sqrt',\n",
              " 'tan',\n",
              " 'tanh',\n",
              " 'tau',\n",
              " 'trunc']"
            ]
          },
          "metadata": {},
          "execution_count": 13
        }
      ]
    },
    {
      "cell_type": "code",
      "source": [
        "#Raiz Quadrada\n",
        "math.sqrt(9)"
      ],
      "metadata": {
        "colab": {
          "base_uri": "https://localhost:8080/"
        },
        "id": "AhY_3up0zLhV",
        "outputId": "c2d0fb45-b57c-4e85-ed3c-56be3ec3b1e8"
      },
      "execution_count": null,
      "outputs": [
        {
          "output_type": "execute_result",
          "data": {
            "text/plain": [
              "3.0"
            ]
          },
          "metadata": {},
          "execution_count": 2
        }
      ]
    },
    {
      "cell_type": "code",
      "source": [
        "#Seno\n",
        "math.sin(45)"
      ],
      "metadata": {
        "colab": {
          "base_uri": "https://localhost:8080/"
        },
        "id": "iosJ_VQw0DGB",
        "outputId": "aa04e485-0f07-444a-a5a7-08b96a220c0e"
      },
      "execution_count": null,
      "outputs": [
        {
          "output_type": "execute_result",
          "data": {
            "text/plain": [
              "0.8509035245341184"
            ]
          },
          "metadata": {},
          "execution_count": 3
        }
      ]
    },
    {
      "cell_type": "code",
      "source": [
        "#Cosseno\n",
        "math.cos(45)"
      ],
      "metadata": {
        "colab": {
          "base_uri": "https://localhost:8080/"
        },
        "id": "IRETrBqJ0L0L",
        "outputId": "559df974-0b92-4319-a213-df2c04a5e3f7"
      },
      "execution_count": null,
      "outputs": [
        {
          "output_type": "execute_result",
          "data": {
            "text/plain": [
              "0.5253219888177297"
            ]
          },
          "metadata": {},
          "execution_count": 4
        }
      ]
    },
    {
      "cell_type": "code",
      "source": [
        "math.log(1000, 10)"
      ],
      "metadata": {
        "colab": {
          "base_uri": "https://localhost:8080/"
        },
        "id": "pYLGEVzU0Vl9",
        "outputId": "2b189bdf-2d98-449e-d66c-77aa5581ccb6"
      },
      "execution_count": null,
      "outputs": [
        {
          "output_type": "execute_result",
          "data": {
            "text/plain": [
              "2.9999999999999996"
            ]
          },
          "metadata": {},
          "execution_count": 5
        }
      ]
    },
    {
      "cell_type": "code",
      "source": [
        "math.log(32, 2)"
      ],
      "metadata": {
        "colab": {
          "base_uri": "https://localhost:8080/"
        },
        "id": "hRIe6UCA0uuG",
        "outputId": "06a53b01-9862-4f16-c5da-fc07248a1695"
      },
      "execution_count": null,
      "outputs": [
        {
          "output_type": "execute_result",
          "data": {
            "text/plain": [
              "5.0"
            ]
          },
          "metadata": {},
          "execution_count": 6
        }
      ]
    },
    {
      "cell_type": "code",
      "source": [
        "#Por não colocarmos a base na função logarítmica, a base usada será a constante de Euller (2.718281828459045), que é muito utilizada na exponenciação.\n",
        "math.log(1000)"
      ],
      "metadata": {
        "colab": {
          "base_uri": "https://localhost:8080/"
        },
        "id": "SuGnj9eY062I",
        "outputId": "9488ad52-7f10-4169-9b41-78e9f15b4176"
      },
      "execution_count": null,
      "outputs": [
        {
          "output_type": "execute_result",
          "data": {
            "text/plain": [
              "6.907755278982137"
            ]
          },
          "metadata": {},
          "execution_count": 7
        }
      ]
    },
    {
      "cell_type": "code",
      "source": [
        "#Pegando o número de Euller\n",
        "#A base de Euller não é uma função e sim uma constante.\n",
        "math.e"
      ],
      "metadata": {
        "colab": {
          "base_uri": "https://localhost:8080/"
        },
        "id": "ZCc1nW1K1WrE",
        "outputId": "4feb4d08-4f1a-4470-cd0b-facc8528fed0"
      },
      "execution_count": null,
      "outputs": [
        {
          "output_type": "execute_result",
          "data": {
            "text/plain": [
              "2.718281828459045"
            ]
          },
          "metadata": {},
          "execution_count": 8
        }
      ]
    },
    {
      "cell_type": "code",
      "source": [
        "#Usando a base de Euller é o mesmo que não usar base alguma\n",
        "math.log(1000, 2.718281828459045)"
      ],
      "metadata": {
        "colab": {
          "base_uri": "https://localhost:8080/"
        },
        "id": "ArCESjI_1kIS",
        "outputId": "4b3a7392-bca7-403a-a024-197d033b0144"
      },
      "execution_count": null,
      "outputs": [
        {
          "output_type": "execute_result",
          "data": {
            "text/plain": [
              "6.907755278982137"
            ]
          },
          "metadata": {},
          "execution_count": 9
        }
      ]
    },
    {
      "cell_type": "code",
      "source": [
        "#Pegando o valor de PI que também é uma constante e não uma função.\n",
        "math.pi"
      ],
      "metadata": {
        "colab": {
          "base_uri": "https://localhost:8080/"
        },
        "id": "cqCVBy0-2XOq",
        "outputId": "3e647704-90fb-48cc-9aad-e44ca67fff4f"
      },
      "execution_count": null,
      "outputs": [
        {
          "output_type": "execute_result",
          "data": {
            "text/plain": [
              "3.141592653589793"
            ]
          },
          "metadata": {},
          "execution_count": 10
        }
      ]
    },
    {
      "cell_type": "markdown",
      "source": [
        "##Biblioteca Datetime\n",
        "\n",
        "https://docs.python.org/pt-br/3/library/datetime.html"
      ],
      "metadata": {
        "id": "T3QSiPPf2kZi"
      }
    },
    {
      "cell_type": "code",
      "source": [
        "import datetime"
      ],
      "metadata": {
        "id": "IzsSBRLO21c_"
      },
      "execution_count": null,
      "outputs": []
    },
    {
      "cell_type": "code",
      "source": [
        "##Todas as opções e funções existentes dentro da biblioteca Datetime\n",
        "dir(datetime)"
      ],
      "metadata": {
        "colab": {
          "base_uri": "https://localhost:8080/"
        },
        "id": "dICDsey93IIk",
        "outputId": "388a57e3-9407-4702-ff9e-689ae93784d3"
      },
      "execution_count": null,
      "outputs": [
        {
          "output_type": "execute_result",
          "data": {
            "text/plain": [
              "['MAXYEAR',\n",
              " 'MINYEAR',\n",
              " '__builtins__',\n",
              " '__cached__',\n",
              " '__doc__',\n",
              " '__file__',\n",
              " '__loader__',\n",
              " '__name__',\n",
              " '__package__',\n",
              " '__spec__',\n",
              " 'date',\n",
              " 'datetime',\n",
              " 'datetime_CAPI',\n",
              " 'sys',\n",
              " 'time',\n",
              " 'timedelta',\n",
              " 'timezone',\n",
              " 'tzinfo']"
            ]
          },
          "metadata": {},
          "execution_count": 12
        }
      ]
    },
    {
      "cell_type": "code",
      "source": [
        "#Data do dia\n",
        "datetime.date.today()"
      ],
      "metadata": {
        "colab": {
          "base_uri": "https://localhost:8080/"
        },
        "id": "EFk4P3L5-TKg",
        "outputId": "80099064-b797-4bec-dd2b-455b940e25ce"
      },
      "execution_count": null,
      "outputs": [
        {
          "output_type": "execute_result",
          "data": {
            "text/plain": [
              "datetime.date(2022, 8, 8)"
            ]
          },
          "metadata": {},
          "execution_count": 14
        }
      ]
    },
    {
      "cell_type": "code",
      "source": [
        "#Hora atual que é executada nos servidores do Google\n",
        "datetime.datetime.now()"
      ],
      "metadata": {
        "colab": {
          "base_uri": "https://localhost:8080/"
        },
        "id": "YRveHlZ8-bix",
        "outputId": "e0ac6fb1-55e2-434f-ea05-6183d991bf01"
      },
      "execution_count": null,
      "outputs": [
        {
          "output_type": "execute_result",
          "data": {
            "text/plain": [
              "datetime.datetime(2022, 8, 8, 1, 5, 14, 141334)"
            ]
          },
          "metadata": {},
          "execution_count": 15
        }
      ]
    },
    {
      "cell_type": "code",
      "source": [
        "#Criando uma variável para receber a data e podermos manipular as informações\n",
        "data = datetime.date(2022, 8, 7)"
      ],
      "metadata": {
        "id": "4Sd6hl_f_3nY"
      },
      "execution_count": null,
      "outputs": []
    },
    {
      "cell_type": "code",
      "source": [
        "data"
      ],
      "metadata": {
        "colab": {
          "base_uri": "https://localhost:8080/"
        },
        "id": "Z_SFK24dAEnV",
        "outputId": "1764b38d-0343-4afd-deb7-f0baa0e51c08"
      },
      "execution_count": null,
      "outputs": [
        {
          "output_type": "execute_result",
          "data": {
            "text/plain": [
              "datetime.date(2022, 8, 7)"
            ]
          },
          "metadata": {},
          "execution_count": 17
        }
      ]
    },
    {
      "cell_type": "code",
      "source": [
        "#Consultado a data detalhadamente como saber o dia\n",
        "data.day"
      ],
      "metadata": {
        "colab": {
          "base_uri": "https://localhost:8080/"
        },
        "id": "JCFbFFTxAOi2",
        "outputId": "600742e6-938e-49a1-b620-0c81dbc2ca6f"
      },
      "execution_count": null,
      "outputs": [
        {
          "output_type": "execute_result",
          "data": {
            "text/plain": [
              "7"
            ]
          },
          "metadata": {},
          "execution_count": 22
        }
      ]
    },
    {
      "cell_type": "code",
      "source": [
        "#Consultado a data detalhadamente como saber o mês\n",
        "data.month"
      ],
      "metadata": {
        "colab": {
          "base_uri": "https://localhost:8080/"
        },
        "id": "cGApNwiwAiH-",
        "outputId": "5667ffa1-9fee-483b-fbf5-6e3460d5c3cd"
      },
      "execution_count": null,
      "outputs": [
        {
          "output_type": "execute_result",
          "data": {
            "text/plain": [
              "8"
            ]
          },
          "metadata": {},
          "execution_count": 21
        }
      ]
    },
    {
      "cell_type": "code",
      "source": [
        "#Consultado a data detalhadamente como saber o ano\n",
        "data.year"
      ],
      "metadata": {
        "colab": {
          "base_uri": "https://localhost:8080/"
        },
        "id": "OFX-20n0AjEM",
        "outputId": "91212ba3-d60f-4db6-c540-dfc9f5d9e3e8"
      },
      "execution_count": null,
      "outputs": [
        {
          "output_type": "execute_result",
          "data": {
            "text/plain": [
              "2022"
            ]
          },
          "metadata": {},
          "execution_count": 23
        }
      ]
    },
    {
      "cell_type": "code",
      "source": [
        "#Trabalhando com hora\n",
        "horario = datetime.datetime(2022, 8, 8, 0, 19, 0)"
      ],
      "metadata": {
        "id": "DYs2oMf1BCBm"
      },
      "execution_count": null,
      "outputs": []
    },
    {
      "cell_type": "code",
      "source": [
        "horario"
      ],
      "metadata": {
        "colab": {
          "base_uri": "https://localhost:8080/"
        },
        "id": "DfuBNDQTBM7r",
        "outputId": "ec69ee5a-4c36-483c-a5a4-b879ce8d337e"
      },
      "execution_count": null,
      "outputs": [
        {
          "output_type": "execute_result",
          "data": {
            "text/plain": [
              "datetime.datetime(2022, 8, 8, 0, 19)"
            ]
          },
          "metadata": {},
          "execution_count": 31
        }
      ]
    },
    {
      "cell_type": "code",
      "source": [
        "#Extraindo os dados do horário\n",
        "horario.hour"
      ],
      "metadata": {
        "colab": {
          "base_uri": "https://localhost:8080/"
        },
        "id": "b4QSaw_Xd_56",
        "outputId": "b89526ae-3edf-46d1-c94a-5b27f7223b2e"
      },
      "execution_count": null,
      "outputs": [
        {
          "output_type": "execute_result",
          "data": {
            "text/plain": [
              "0"
            ]
          },
          "metadata": {},
          "execution_count": 32
        }
      ]
    },
    {
      "cell_type": "code",
      "source": [
        "horario.minute"
      ],
      "metadata": {
        "colab": {
          "base_uri": "https://localhost:8080/"
        },
        "id": "q94C5nxmeH1o",
        "outputId": "878348a7-a991-447c-f8d0-b108624ed380"
      },
      "execution_count": null,
      "outputs": [
        {
          "output_type": "execute_result",
          "data": {
            "text/plain": [
              "19"
            ]
          },
          "metadata": {},
          "execution_count": 33
        }
      ]
    },
    {
      "cell_type": "code",
      "source": [
        "horario.second"
      ],
      "metadata": {
        "colab": {
          "base_uri": "https://localhost:8080/"
        },
        "id": "TLuAG-DJeMSH",
        "outputId": "bbbea02b-0e1d-49ec-af45-145fa5aac975"
      },
      "execution_count": null,
      "outputs": [
        {
          "output_type": "execute_result",
          "data": {
            "text/plain": [
              "0"
            ]
          },
          "metadata": {},
          "execution_count": 34
        }
      ]
    },
    {
      "cell_type": "code",
      "source": [
        "horario.microsecond"
      ],
      "metadata": {
        "id": "CxqllVX1eTbu",
        "outputId": "dbf7b7e4-b740-498f-ca4e-d4078d876e0d",
        "colab": {
          "base_uri": "https://localhost:8080/"
        }
      },
      "execution_count": null,
      "outputs": [
        {
          "output_type": "execute_result",
          "data": {
            "text/plain": [
              "0"
            ]
          },
          "metadata": {},
          "execution_count": 35
        }
      ]
    },
    {
      "cell_type": "markdown",
      "source": [
        "##Biblioteca Random\n",
        "\n",
        "https://docs.python.org/pt-br/3/library/random.html"
      ],
      "metadata": {
        "id": "R1Gy2QgjznMW"
      }
    },
    {
      "cell_type": "code",
      "source": [
        "import random"
      ],
      "metadata": {
        "id": "P-hngha10JDT"
      },
      "execution_count": 2,
      "outputs": []
    },
    {
      "cell_type": "code",
      "source": [
        "#Gerando um número randomico\n",
        "random.random()"
      ],
      "metadata": {
        "colab": {
          "base_uri": "https://localhost:8080/"
        },
        "id": "jCrUQfri1BAJ",
        "outputId": "2999d26d-481d-428d-a900-917e1aad0aec"
      },
      "execution_count": 11,
      "outputs": [
        {
          "output_type": "execute_result",
          "data": {
            "text/plain": [
              "0.5034030711208696"
            ]
          },
          "metadata": {},
          "execution_count": 11
        }
      ]
    },
    {
      "cell_type": "code",
      "source": [
        "#Gerando númoros randomicos dentro de uma faixa\n",
        "random.randint(1, 10)"
      ],
      "metadata": {
        "colab": {
          "base_uri": "https://localhost:8080/"
        },
        "id": "sN67Fbph1dld",
        "outputId": "27b481f7-5a22-4b14-bc67-6a863c2531ea"
      },
      "execution_count": 24,
      "outputs": [
        {
          "output_type": "execute_result",
          "data": {
            "text/plain": [
              "10"
            ]
          },
          "metadata": {},
          "execution_count": 24
        }
      ]
    },
    {
      "cell_type": "code",
      "source": [
        "#Número randomico em uma faixa dentro de um número padrão. No caso como se fosse apenas para números pares\n",
        "random.randrange(0, 10, 2)"
      ],
      "metadata": {
        "colab": {
          "base_uri": "https://localhost:8080/"
        },
        "id": "wTmjs-EZ1t9V",
        "outputId": "1a44a911-7b90-42d5-c285-b72e20a1dce9"
      },
      "execution_count": 68,
      "outputs": [
        {
          "output_type": "execute_result",
          "data": {
            "text/plain": [
              "4"
            ]
          },
          "metadata": {},
          "execution_count": 68
        }
      ]
    },
    {
      "cell_type": "code",
      "source": [
        "#Número randomico em uma faixa dentro de um número padrão. No caso de três em três\n",
        "random.randrange(0, 10, 3)"
      ],
      "metadata": {
        "colab": {
          "base_uri": "https://localhost:8080/"
        },
        "id": "bcOjW-je23gG",
        "outputId": "2f2d5601-7483-491e-fad4-8f3af3bcca96"
      },
      "execution_count": 83,
      "outputs": [
        {
          "output_type": "execute_result",
          "data": {
            "text/plain": [
              "9"
            ]
          },
          "metadata": {},
          "execution_count": 83
        }
      ]
    },
    {
      "cell_type": "code",
      "source": [
        "#Fazendo um sorteio aleatório dentro de uma lista\n",
        "x = ['k', 2, 'M-1', 'j', 6, '10', 'X', [1, 3, 4, 5], ('texto 1', 'texto 2'), {'placa1': 'abc123', 'placa2':'dad123'}]\n",
        "x"
      ],
      "metadata": {
        "colab": {
          "base_uri": "https://localhost:8080/"
        },
        "id": "oD_puNHJ3TCA",
        "outputId": "0bbf077d-dc7f-49ef-b015-92c20d5e6a24"
      },
      "execution_count": 104,
      "outputs": [
        {
          "output_type": "execute_result",
          "data": {
            "text/plain": [
              "['k',\n",
              " 2,\n",
              " 'M-1',\n",
              " 'j',\n",
              " 6,\n",
              " '10',\n",
              " 'X',\n",
              " [1, 3, 4, 5],\n",
              " ('texto 1', 'texto 2'),\n",
              " {'placa1': 'abc123', 'placa2': 'dad123'}]"
            ]
          },
          "metadata": {},
          "execution_count": 104
        }
      ]
    },
    {
      "cell_type": "code",
      "source": [
        "random.choice(x)"
      ],
      "metadata": {
        "colab": {
          "base_uri": "https://localhost:8080/"
        },
        "id": "Q9O-Q_sQ3y8z",
        "outputId": "e47c0cb9-5e48-47ef-ff6f-9c8275ba817a"
      },
      "execution_count": 118,
      "outputs": [
        {
          "output_type": "execute_result",
          "data": {
            "text/plain": [
              "{'placa1': 'abc123', 'placa2': 'dad123'}"
            ]
          },
          "metadata": {},
          "execution_count": 118
        }
      ]
    },
    {
      "cell_type": "markdown",
      "source": [
        "##Biblioteca Time\n",
        "\n",
        "https://docs.python.org/pt-br/3/library/time.html"
      ],
      "metadata": {
        "id": "vTFBIacB0LP9"
      }
    },
    {
      "cell_type": "code",
      "source": [
        "#Na importação de bibliotecas sempre podemos adicionar um apelido para facilitar nosso trabalho.\n",
        "#Apesar de não ter sido feito com as bibliotecas anteriores, mas era possível fazer.\n",
        "import time as tm"
      ],
      "metadata": {
        "id": "T5JcpQP60zFJ"
      },
      "execution_count": 2,
      "outputs": []
    },
    {
      "cell_type": "code",
      "source": [
        "#Retorna o tempo atual em segundos\n",
        "tm.time()"
      ],
      "metadata": {
        "colab": {
          "base_uri": "https://localhost:8080/"
        },
        "id": "P6fGiLRC6QXO",
        "outputId": "0ce13e8e-5376-4aaf-c3bd-b55d100802ee"
      },
      "execution_count": 128,
      "outputs": [
        {
          "output_type": "execute_result",
          "data": {
            "text/plain": [
              "1660305405.4446554"
            ]
          },
          "metadata": {},
          "execution_count": 128
        }
      ]
    },
    {
      "cell_type": "code",
      "source": [
        "#Descobrindo quanto tempo um código levou pra ser executado\n",
        "#Vai ser amazenado o valor em segundos antes de ser executado o código\n",
        "antes = tm.time()\n",
        "lista = []\n",
        "for i in range(0,10000):\n",
        "  lista.append(i)\n",
        "depois = tm.time()"
      ],
      "metadata": {
        "id": "Gt0yX3o96Y8Q"
      },
      "execution_count": 129,
      "outputs": []
    },
    {
      "cell_type": "code",
      "source": [
        "#Para 10 mil\n",
        "intervalo = depois - antes\n",
        "print(f'Tempo {intervalo} segundos')"
      ],
      "metadata": {
        "colab": {
          "base_uri": "https://localhost:8080/"
        },
        "id": "STL5cEj_7s0s",
        "outputId": "3b6bc6f8-471a-4baa-b12e-f02fddf21e25"
      },
      "execution_count": 130,
      "outputs": [
        {
          "output_type": "stream",
          "name": "stdout",
          "text": [
            "Tempo 0.0025420188903808594 segundos\n"
          ]
        }
      ]
    },
    {
      "cell_type": "code",
      "source": [
        "antes2 = tm.time()\n",
        "lista = []\n",
        "for i in range(0,100000):\n",
        "  lista.append(i)\n",
        "depois2 = tm.time()"
      ],
      "metadata": {
        "id": "2JP3iT6e8fdz"
      },
      "execution_count": 133,
      "outputs": []
    },
    {
      "cell_type": "code",
      "source": [
        "#Para 100 mil\n",
        "intervalo2 = depois2 - antes2\n",
        "print(f'Tempo {intervalo2} segundos')"
      ],
      "metadata": {
        "colab": {
          "base_uri": "https://localhost:8080/"
        },
        "id": "zCsHwlS-8L9C",
        "outputId": "8f3dfe15-1a0f-4bf6-915e-f720802e4816"
      },
      "execution_count": 134,
      "outputs": [
        {
          "output_type": "stream",
          "name": "stdout",
          "text": [
            "Tempo 0.024692535400390625 segundos\n"
          ]
        }
      ]
    },
    {
      "cell_type": "code",
      "source": [
        "#Usando uma função para fazer o programa esperar\n",
        "#Muito bom para mandar mensagem para o usuário\n",
        "print('Finalizando')\n",
        "tm.sleep(2)\n",
        "print('....')\n",
        "tm.sleep(2)\n",
        "print('Até a próxima')"
      ],
      "metadata": {
        "colab": {
          "base_uri": "https://localhost:8080/"
        },
        "id": "LdOC1FPkvbCz",
        "outputId": "72c3ccce-7501-4cbd-887e-40e4fc1dc5d3"
      },
      "execution_count": 6,
      "outputs": [
        {
          "output_type": "stream",
          "name": "stdout",
          "text": [
            "Finalizando\n",
            "....\n",
            "Até a próxima\n"
          ]
        }
      ]
    }
  ]
}