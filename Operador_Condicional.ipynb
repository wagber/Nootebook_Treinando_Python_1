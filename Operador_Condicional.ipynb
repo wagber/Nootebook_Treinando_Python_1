{
  "nbformat": 4,
  "nbformat_minor": 0,
  "metadata": {
    "colab": {
      "name": "Operador Condicional.ipynb",
      "provenance": [],
      "authorship_tag": "ABX9TyMf29YxTjWzY2Jja2QBMRY0",
      "include_colab_link": true
    },
    "kernelspec": {
      "name": "python3",
      "display_name": "Python 3"
    },
    "language_info": {
      "name": "python"
    }
  },
  "cells": [
    {
      "cell_type": "markdown",
      "metadata": {
        "id": "view-in-github",
        "colab_type": "text"
      },
      "source": [
        "<a href=\"https://colab.research.google.com/github/wagber/Nootebook_Treinando_Python_1/blob/main/Operador_Condicional.ipynb\" target=\"_parent\"><img src=\"https://colab.research.google.com/assets/colab-badge.svg\" alt=\"Open In Colab\"/></a>"
      ]
    },
    {
      "cell_type": "markdown",
      "source": [
        "**Operador Condicional**"
      ],
      "metadata": {
        "id": "rHbcuItkgupG"
      }
    },
    {
      "cell_type": "code",
      "source": [
        "a = int(input('Digite um valor para A '))\n",
        "b = int(input('Digite um valor para B '))\n",
        "\n",
        "print(a,b)\n",
        "\n",
        "if a > b:\n",
        "  print('A é MAIOR que B')\n",
        "print('A é MENOR que B')"
      ],
      "metadata": {
        "colab": {
          "base_uri": "https://localhost:8080/"
        },
        "id": "FtJR004Cg2QS",
        "outputId": "dd6dbe6f-ea5c-41b3-d9eb-78b8ccc3af8a"
      },
      "execution_count": null,
      "outputs": [
        {
          "output_type": "stream",
          "name": "stdout",
          "text": [
            "Digite um valor para A 5\n",
            "Digite um valor para B 7\n",
            "5 7\n",
            "A é MENOR que B\n"
          ]
        }
      ]
    },
    {
      "cell_type": "code",
      "source": [
        "n = 4\n",
        "if n == 4:\n",
        "  print('n é igual a 4')\n",
        "else:\n",
        "  if n == 3:\n",
        "    print('n é igual a 3')\n",
        "  else:\n",
        "    print('n não é igual a 4 e nem 3')"
      ],
      "metadata": {
        "colab": {
          "base_uri": "https://localhost:8080/"
        },
        "id": "2RdvGlXTj5SJ",
        "outputId": "e7451b7e-703c-484f-a336-222d948eed08"
      },
      "execution_count": null,
      "outputs": [
        {
          "output_type": "stream",
          "name": "stdout",
          "text": [
            "n é igual a 3\n"
          ]
        }
      ]
    },
    {
      "cell_type": "code",
      "source": [
        "c = int(input('Digite um valor para A '))\n",
        "d = int(input('Digite um valor para B '))\n",
        "\n",
        "print(c, d)\n",
        "if c > d:\n",
        "  print('C é MAIOR que D')\n",
        "elif c < d:\n",
        "  print('C é MENOR que D')\n",
        "else:\n",
        "  print('C é IGUAL a D')"
      ],
      "metadata": {
        "colab": {
          "base_uri": "https://localhost:8080/"
        },
        "id": "13V-J3UuixDk",
        "outputId": "31edb72e-72be-46e8-edf4-2f9a947c8d83"
      },
      "execution_count": null,
      "outputs": [
        {
          "output_type": "stream",
          "name": "stdout",
          "text": [
            "Digite um valor para A 10\n",
            "Digite um valor para B 10\n",
            "10 10\n",
            "C é IGUAL a D\n"
          ]
        }
      ]
    },
    {
      "cell_type": "code",
      "source": [
        "e = int(input('Digite um valor para E '))\n",
        "f = int(input('Digite um valor para F '))\n",
        "\n",
        "if (e > f) and (e % 2 == 0):\n",
        "  print('E é MAIOR que F e F é PAR')\n",
        "else:\n",
        "  if (e < f) and (e % 2 == 0):\n",
        "    print('E é MENOR que F e F é PAR')\n",
        "  else:\n",
        "    print('Outro valor desconhecido')"
      ],
      "metadata": {
        "colab": {
          "base_uri": "https://localhost:8080/"
        },
        "id": "y3w1PJn5mmhv",
        "outputId": "81b10228-cf67-4c26-8326-fd37a52a7232"
      },
      "execution_count": null,
      "outputs": [
        {
          "output_type": "stream",
          "name": "stdout",
          "text": [
            "Digite um valor para E 5\n",
            "Digite um valor para F 6\n",
            "Outro valor desconhecido\n"
          ]
        }
      ]
    },
    {
      "cell_type": "code",
      "source": [
        "g = int(input('Digite um valor para G '))\n",
        "h = int(input('Digite um valor para H '))\n",
        "\n",
        "if (g > h) and (g % 2 == 0):\n",
        "  print('G é MAIOR que H e G é PAR')\n",
        "elif (g < h) and (g % 2 == 0):\n",
        "    print('G é MENOR que H e G é PAR')\n",
        "elif (g > h) and (h % 2 == 0):\n",
        "    print('G é MAIOR que H e H é PAR')\n",
        "elif (g < h) and (h % 2 == 0):\n",
        "    print('G é MENOR que H e H é PAR')\n",
        "else:\n",
        "    print('Outro valor desconhecido')"
      ],
      "metadata": {
        "colab": {
          "base_uri": "https://localhost:8080/"
        },
        "id": "ialOounboLV3",
        "outputId": "bca2cdc5-a245-454e-a06a-e88c3bed317f"
      },
      "execution_count": null,
      "outputs": [
        {
          "output_type": "stream",
          "name": "stdout",
          "text": [
            "Digite um valor para G 9\n",
            "Digite um valor para H 11\n",
            "Outro valor desconhecido\n"
          ]
        }
      ]
    },
    {
      "cell_type": "markdown",
      "source": [
        "**IF em uma LINHA**"
      ],
      "metadata": {
        "id": "umVTx7XDBMPL"
      }
    },
    {
      "cell_type": "code",
      "source": [
        "#Forma correta de acordo com o Pep8 para if em uma só linha\n",
        "variavel = int(input('Digite o valor da variavel '))\n",
        "\n",
        "a = 1 if variavel == 1 else 2\n",
        "print(a)"
      ],
      "metadata": {
        "colab": {
          "base_uri": "https://localhost:8080/"
        },
        "id": "ihlT3vmrBK2g",
        "outputId": "785471c5-f97d-42c9-f3f0-a9a14cab90be"
      },
      "execution_count": null,
      "outputs": [
        {
          "output_type": "stream",
          "name": "stdout",
          "text": [
            "Digite o valor da variavel 1\n",
            "1\n"
          ]
        }
      ]
    },
    {
      "cell_type": "code",
      "source": [
        "#Aind que seja ceito sem erros vários if e else na mesma linha, não faz sentido pois está fadado ao erro já que todas as condições caem o else 5\n",
        "#e por vez não está condizente com o Pep8\n",
        "\n",
        "variavel2 = int(input('Digite o valor da variavel '))\n",
        "\n",
        "a = 1 if variavel2 == 1 else 2 if variavel2 == 2 else 3 if variavel2 == 3 else 4 if variavel2 == 4 else 5\n",
        "print(a)"
      ],
      "metadata": {
        "colab": {
          "base_uri": "https://localhost:8080/"
        },
        "id": "5fA5BCsoB3ai",
        "outputId": "bbdfc715-4988-4880-c0d0-afd4bc85a289"
      },
      "execution_count": null,
      "outputs": [
        {
          "output_type": "stream",
          "name": "stdout",
          "text": [
            "Digite o valor da variavel 4\n",
            "4\n"
          ]
        }
      ]
    }
  ]
}