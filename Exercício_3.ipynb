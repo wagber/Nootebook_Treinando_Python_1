{
  "nbformat": 4,
  "nbformat_minor": 0,
  "metadata": {
    "colab": {
      "name": "Exercício 3.ipynb",
      "provenance": [],
      "authorship_tag": "ABX9TyMvy5eyTdIb6gK9ucH2VbnZ",
      "include_colab_link": true
    },
    "kernelspec": {
      "name": "python3",
      "display_name": "Python 3"
    },
    "language_info": {
      "name": "python"
    }
  },
  "cells": [
    {
      "cell_type": "markdown",
      "metadata": {
        "id": "view-in-github",
        "colab_type": "text"
      },
      "source": [
        "<a href=\"https://colab.research.google.com/github/wagber/Nootebook_Treinando_Python_1/blob/main/Exerc%C3%ADcio_3.ipynb\" target=\"_parent\"><img src=\"https://colab.research.google.com/assets/colab-badge.svg\" alt=\"Open In Colab\"/></a>"
      ]
    },
    {
      "cell_type": "markdown",
      "source": [
        "**1 - Ler 5 notas e informar a média**"
      ],
      "metadata": {
        "id": "F8zKI8VAlKC4"
      }
    },
    {
      "cell_type": "markdown",
      "source": [
        "**Usando FOR**"
      ],
      "metadata": {
        "id": "YlXA5Pwtludq"
      }
    },
    {
      "cell_type": "code",
      "source": [
        "soma = 0\n",
        "#A variável nota aqui está consumindo memória. Se fosse penas o _ não estaria consumindo\n",
        "for nota in range(5):\n",
        "  nota = float(input('Digite a nota '))\n",
        "  soma += nota\n",
        "print(round((soma / 5),1))"
      ],
      "metadata": {
        "colab": {
          "base_uri": "https://localhost:8080/"
        },
        "id": "kbs6DrXhpy-x",
        "outputId": "4ee2817b-8617-45d0-9d53-ff0db9e7cca4"
      },
      "execution_count": 61,
      "outputs": [
        {
          "output_type": "stream",
          "name": "stdout",
          "text": [
            "Digite a nota 10\n",
            "Digite a nota 10\n",
            "Digite a nota 7.5\n",
            "Digite a nota 8.4\n",
            "Digite a nota 2.7\n",
            "7.7\n"
          ]
        }
      ]
    },
    {
      "cell_type": "code",
      "source": [
        "nota = media = soma = 0\n",
        "#Aqui como não vamos usar a variável então usamos o _ para não consumir memória\n",
        "for _ in range (1,6):\n",
        "  nota = float(input('Digite a nota '))\n",
        "  soma += nota\n",
        "print(soma)\n",
        "media = round((soma / 5),1)\n",
        "print(f'A média é {media}')"
      ],
      "metadata": {
        "colab": {
          "base_uri": "https://localhost:8080/"
        },
        "id": "c1MgiBqp38Tb",
        "outputId": "522733df-a7d6-4cb4-ab4e-b731583bbce3"
      },
      "execution_count": 66,
      "outputs": [
        {
          "output_type": "stream",
          "name": "stdout",
          "text": [
            "Digite a nota 10\n",
            "Digite a nota 10\n",
            "Digite a nota 7.5\n",
            "Digite a nota 8.4\n",
            "Digite a nota 2.7\n",
            "38.6\n",
            "A média é 7.7\n"
          ]
        }
      ]
    },
    {
      "cell_type": "markdown",
      "source": [
        "**Usando WHILE**"
      ],
      "metadata": {
        "id": "SSJQjZ02l0a6"
      }
    },
    {
      "cell_type": "code",
      "source": [
        "soma = 0\n",
        "quant_notas = 1\n",
        "while quant_notas < 6:\n",
        "  nota = float(input(('Digite uma nota ')))\n",
        "  quant_notas +=1\n",
        "  soma += nota\n",
        "print(round((soma / 5),1))"
      ],
      "metadata": {
        "colab": {
          "base_uri": "https://localhost:8080/"
        },
        "id": "JykJbKf0l4Ej",
        "outputId": "4620dc8c-676c-4bb9-ae33-322096591cfb"
      },
      "execution_count": 50,
      "outputs": [
        {
          "output_type": "stream",
          "name": "stdout",
          "text": [
            "Digite uma nota 10\n",
            "Digite uma nota 10\n",
            "Digite uma nota 7.5\n",
            "Digite uma nota 8.4\n",
            "Digite uma nota 2.7\n",
            "7.7\n"
          ]
        }
      ]
    },
    {
      "cell_type": "markdown",
      "source": [
        "**2 - Imprimir a tabuada do número 3 (3 x 1 = 1 - 3 x 10 = 30)**"
      ],
      "metadata": {
        "id": "anvYvxuQlaBT"
      }
    },
    {
      "cell_type": "markdown",
      "source": [
        "**Usando FOR**"
      ],
      "metadata": {
        "id": "NELOLeI-l8B9"
      }
    },
    {
      "cell_type": "code",
      "source": [
        "for i in range(11):\n",
        "  mult = 3 * i\n",
        "  print(f'3 x {i} = {mult}')"
      ],
      "metadata": {
        "colab": {
          "base_uri": "https://localhost:8080/"
        },
        "id": "mFRvgoNelvPj",
        "outputId": "629468d4-c823-42d9-c194-db0bf59aec1a"
      },
      "execution_count": 53,
      "outputs": [
        {
          "output_type": "stream",
          "name": "stdout",
          "text": [
            "3 x 0 = 0\n",
            "3 x 1 = 3\n",
            "3 x 2 = 6\n",
            "3 x 3 = 9\n",
            "3 x 4 = 12\n",
            "3 x 5 = 15\n",
            "3 x 6 = 18\n",
            "3 x 7 = 21\n",
            "3 x 8 = 24\n",
            "3 x 9 = 27\n",
            "3 x 10 = 30\n"
          ]
        }
      ]
    },
    {
      "cell_type": "code",
      "source": [
        "for i in range(1,11):\n",
        "  print('3 x {} = {}'.format(i, 3* i))"
      ],
      "metadata": {
        "colab": {
          "base_uri": "https://localhost:8080/"
        },
        "id": "eEz9LpA7-vAK",
        "outputId": "2337bb06-2f45-4425-ff4b-ed7d695f78c2"
      },
      "execution_count": 69,
      "outputs": [
        {
          "output_type": "stream",
          "name": "stdout",
          "text": [
            "3 x 1 = 3\n",
            "3 x 2 = 6\n",
            "3 x 3 = 9\n",
            "3 x 4 = 12\n",
            "3 x 5 = 15\n",
            "3 x 6 = 18\n",
            "3 x 7 = 21\n",
            "3 x 8 = 24\n",
            "3 x 9 = 27\n",
            "3 x 10 = 30\n"
          ]
        }
      ]
    },
    {
      "cell_type": "markdown",
      "source": [
        "**Usando WHILE**"
      ],
      "metadata": {
        "id": "dmzordVT1xXr"
      }
    },
    {
      "cell_type": "code",
      "source": [
        "taboada = -1\n",
        "while taboada < 10:\n",
        "  taboada += 1\n",
        "  mult = 3 * taboada\n",
        "  print(f'3 x {taboada} = {mult}')\n",
        "  "
      ],
      "metadata": {
        "colab": {
          "base_uri": "https://localhost:8080/"
        },
        "id": "vEj6VurBz9KV",
        "outputId": "d9aa37b3-a46e-4057-bdfb-63354197c8d9"
      },
      "execution_count": 60,
      "outputs": [
        {
          "output_type": "stream",
          "name": "stdout",
          "text": [
            "3 x 0 = 0\n",
            "3 x 1 = 3\n",
            "3 x 2 = 6\n",
            "3 x 3 = 9\n",
            "3 x 4 = 12\n",
            "3 x 5 = 15\n",
            "3 x 6 = 18\n",
            "3 x 7 = 21\n",
            "3 x 8 = 24\n",
            "3 x 9 = 27\n",
            "3 x 10 = 30\n"
          ]
        }
      ]
    },
    {
      "cell_type": "code",
      "source": [
        "numero = 1\n",
        "while numero <= 10:\n",
        "  print('3 x {} = {}'.format(numero, 3 * numero))\n",
        "  numero +=1"
      ],
      "metadata": {
        "colab": {
          "base_uri": "https://localhost:8080/"
        },
        "id": "Ju1YSJCR9_2D",
        "outputId": "650e841f-6988-42cf-cdba-221a0db18d49"
      },
      "execution_count": 68,
      "outputs": [
        {
          "output_type": "stream",
          "name": "stdout",
          "text": [
            "3 x 1 = 3\n",
            "3 x 2 = 6\n",
            "3 x 3 = 9\n",
            "3 x 4 = 12\n",
            "3 x 5 = 15\n",
            "3 x 6 = 18\n",
            "3 x 7 = 21\n",
            "3 x 8 = 24\n",
            "3 x 9 = 27\n",
            "3 x 10 = 30\n"
          ]
        }
      ]
    }
  ]
}