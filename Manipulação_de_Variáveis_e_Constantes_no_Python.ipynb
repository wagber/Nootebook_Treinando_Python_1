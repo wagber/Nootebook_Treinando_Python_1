{
  "nbformat": 4,
  "nbformat_minor": 0,
  "metadata": {
    "colab": {
      "name": "Manipulação de Variáveis e Constantes no Python.ipynb",
      "provenance": [],
      "authorship_tag": "ABX9TyOWrmgAKI/zCxXq4uUHkPaF",
      "include_colab_link": true
    },
    "kernelspec": {
      "name": "python3",
      "display_name": "Python 3"
    },
    "language_info": {
      "name": "python"
    }
  },
  "cells": [
    {
      "cell_type": "markdown",
      "metadata": {
        "id": "view-in-github",
        "colab_type": "text"
      },
      "source": [
        "<a href=\"https://colab.research.google.com/github/wagber/Nootebook_Treinando_Python_1/blob/main/Manipula%C3%A7%C3%A3o_de_Vari%C3%A1veis_e_Constantes_no_Python.ipynb\" target=\"_parent\"><img src=\"https://colab.research.google.com/assets/colab-badge.svg\" alt=\"Open In Colab\"/></a>"
      ]
    },
    {
      "cell_type": "markdown",
      "source": [
        "**Variáveis Inteiras**"
      ],
      "metadata": {
        "id": "g9olqxiuSK6S"
      }
    },
    {
      "cell_type": "code",
      "source": [
        "numero = -3\n",
        "numero_jogos = 14\n",
        "numero_convidados = 15"
      ],
      "metadata": {
        "id": "VbYVcl7GSYjQ"
      },
      "execution_count": null,
      "outputs": []
    },
    {
      "cell_type": "code",
      "source": [
        "numero"
      ],
      "metadata": {
        "colab": {
          "base_uri": "https://localhost:8080/"
        },
        "id": "Q6LCB61zSskM",
        "outputId": "11640a17-1fa0-4e24-a14e-43094260c554"
      },
      "execution_count": null,
      "outputs": [
        {
          "output_type": "execute_result",
          "data": {
            "text/plain": [
              "-3"
            ]
          },
          "metadata": {},
          "execution_count": 6
        }
      ]
    },
    {
      "cell_type": "code",
      "source": [
        "print(numero)"
      ],
      "metadata": {
        "colab": {
          "base_uri": "https://localhost:8080/"
        },
        "id": "znK7V5oXS889",
        "outputId": "a92585a9-2458-4488-c8eb-76f0f3583d16"
      },
      "execution_count": null,
      "outputs": [
        {
          "output_type": "stream",
          "name": "stdout",
          "text": [
            "-3\n"
          ]
        }
      ]
    },
    {
      "cell_type": "code",
      "source": [
        "print(numero, numero_convidados)"
      ],
      "metadata": {
        "colab": {
          "base_uri": "https://localhost:8080/"
        },
        "id": "VTdbV14AVzQ9",
        "outputId": "a9147b0c-5293-475d-8b18-e16950fe4f4e"
      },
      "execution_count": null,
      "outputs": [
        {
          "output_type": "stream",
          "name": "stdout",
          "text": [
            "-3 15\n"
          ]
        }
      ]
    },
    {
      "cell_type": "markdown",
      "source": [
        "**Variáveis float (ponto flutuante)**"
      ],
      "metadata": {
        "id": "s2I3xmkTV_0i"
      }
    },
    {
      "cell_type": "code",
      "source": [
        "pi = 3.14\n",
        "numero_euler = 2.71\n",
        "escala_terremoto = -4.55"
      ],
      "metadata": {
        "id": "yACONjlEWJJn"
      },
      "execution_count": null,
      "outputs": []
    },
    {
      "cell_type": "code",
      "source": [
        "print(pi)\n",
        "print(numero_euler)\n",
        "print(escala_terremoto)"
      ],
      "metadata": {
        "colab": {
          "base_uri": "https://localhost:8080/"
        },
        "id": "PxcCg9cKWeB_",
        "outputId": "efd72b12-cc79-4182-f467-4aabc260efb7"
      },
      "execution_count": null,
      "outputs": [
        {
          "output_type": "stream",
          "name": "stdout",
          "text": [
            "3.14\n",
            "2.71\n",
            "-4.55\n"
          ]
        }
      ]
    },
    {
      "cell_type": "markdown",
      "source": [
        "**Strings e Chars**"
      ],
      "metadata": {
        "id": "IYYb8kPIWw8M"
      }
    },
    {
      "cell_type": "code",
      "source": [
        "letra = 'a'\n",
        "palavra1 = 'linguagem de programação'\n",
        "palavra2 = 'Python'"
      ],
      "metadata": {
        "id": "RClDOLdbW1g1"
      },
      "execution_count": null,
      "outputs": []
    },
    {
      "cell_type": "code",
      "source": [
        "print(letra, palavra1)"
      ],
      "metadata": {
        "colab": {
          "base_uri": "https://localhost:8080/"
        },
        "id": "1mH6ih0TXJVu",
        "outputId": "6223227f-1804-4c39-8215-f4dea9dca1ab"
      },
      "execution_count": null,
      "outputs": [
        {
          "output_type": "stream",
          "name": "stdout",
          "text": [
            "a linguagem de programação\n"
          ]
        }
      ]
    },
    {
      "cell_type": "code",
      "source": [
        "print('Estou aprendendo uma', palavra1,)"
      ],
      "metadata": {
        "colab": {
          "base_uri": "https://localhost:8080/"
        },
        "id": "Ze2oTKceXUfj",
        "outputId": "e6d3917e-8d1b-4a3f-cd28-3789fafae7d8"
      },
      "execution_count": null,
      "outputs": [
        {
          "output_type": "stream",
          "name": "stdout",
          "text": [
            "Estou aprendendo uma linguagem de programação\n"
          ]
        }
      ]
    },
    {
      "cell_type": "code",
      "source": [
        "print('Esta', palavra1, 'se chama', palavra2)"
      ],
      "metadata": {
        "colab": {
          "base_uri": "https://localhost:8080/"
        },
        "id": "RXQh3RSmXtfR",
        "outputId": "f4993ba7-414a-4ce6-dd59-6d095336d5ea"
      },
      "execution_count": null,
      "outputs": [
        {
          "output_type": "stream",
          "name": "stdout",
          "text": [
            "Esta linguagem de programação se chama Python\n"
          ]
        }
      ]
    },
    {
      "cell_type": "code",
      "source": [
        "idade = int(input('Digite sua idade'))\n",
        "print('sua idade é:', idade)"
      ],
      "metadata": {
        "colab": {
          "base_uri": "https://localhost:8080/"
        },
        "id": "wnEhOeDPbbmG",
        "outputId": "5ab916c5-7222-4387-e385-46eb623fb890"
      },
      "execution_count": null,
      "outputs": [
        {
          "output_type": "stream",
          "name": "stdout",
          "text": [
            "Digite sua idade37\n",
            "sua idade é: 37\n"
          ]
        }
      ]
    },
    {
      "cell_type": "code",
      "source": [
        "pH = float(input('Qual o pH do solo da última medição?'))\n",
        "print('O pH medido foi',pH)"
      ],
      "metadata": {
        "colab": {
          "base_uri": "https://localhost:8080/"
        },
        "id": "fiOGjI6eb8Uo",
        "outputId": "4bac7e7e-8c4c-4b64-8c12-89469d50cf8a"
      },
      "execution_count": null,
      "outputs": [
        {
          "output_type": "stream",
          "name": "stdout",
          "text": [
            "Qual o pH do solo da última medição?2.5\n",
            "O pH medido foi 2.5\n"
          ]
        }
      ]
    },
    {
      "cell_type": "code",
      "source": [
        "nome = str(input('Qual o seu nome?'))\n",
        "##No caso do input não seria necessário ter a declaração do str pois o input já retorna o resultado como string\n",
        "print('Seu nome é',nome)"
      ],
      "metadata": {
        "colab": {
          "base_uri": "https://localhost:8080/"
        },
        "id": "aJ4-8VHrcnEv",
        "outputId": "cd876d7f-499e-4632-e5e1-ef7df3d492bc"
      },
      "execution_count": null,
      "outputs": [
        {
          "output_type": "stream",
          "name": "stdout",
          "text": [
            "Qual o seu nome?Wagner\n",
            "Seu nome é Wagner\n"
          ]
        }
      ]
    },
    {
      "cell_type": "code",
      "source": [
        "idade"
      ],
      "metadata": {
        "colab": {
          "base_uri": "https://localhost:8080/"
        },
        "id": "SkQynRGLdIFt",
        "outputId": "4a96695d-b769-45ad-9da8-16b65b82e441"
      },
      "execution_count": null,
      "outputs": [
        {
          "output_type": "execute_result",
          "data": {
            "text/plain": [
              "37"
            ]
          },
          "metadata": {},
          "execution_count": 25
        }
      ]
    }
  ]
}