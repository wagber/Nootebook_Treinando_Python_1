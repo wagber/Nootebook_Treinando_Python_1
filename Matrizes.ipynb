{
  "nbformat": 4,
  "nbformat_minor": 0,
  "metadata": {
    "colab": {
      "name": "Matrizes.ipynb",
      "provenance": [],
      "authorship_tag": "ABX9TyN1E5VYME4yu4wZEQNDy3F+",
      "include_colab_link": true
    },
    "kernelspec": {
      "name": "python3",
      "display_name": "Python 3"
    },
    "language_info": {
      "name": "python"
    }
  },
  "cells": [
    {
      "cell_type": "markdown",
      "metadata": {
        "id": "view-in-github",
        "colab_type": "text"
      },
      "source": [
        "<a href=\"https://colab.research.google.com/github/wagber/Nootebook_Treinando_Python_1/blob/main/Matrizes.ipynb\" target=\"_parent\"><img src=\"https://colab.research.google.com/assets/colab-badge.svg\" alt=\"Open In Colab\"/></a>"
      ]
    },
    {
      "cell_type": "markdown",
      "source": [
        "**Matrizes**"
      ],
      "metadata": {
        "id": "cEbG8r3ckcQ2"
      }
    },
    {
      "cell_type": "code",
      "source": [
        "#Para trabalharmos com matrizes temos que importar a biblioteca Numpy que trabalha com processamentos ciêntificos e funções estatísticas\n",
        "#para uso de inteligência artificial\n",
        "import numpy as np"
      ],
      "metadata": {
        "id": "GjWh0Pt1kfRI"
      },
      "execution_count": 3,
      "outputs": []
    },
    {
      "cell_type": "code",
      "source": [
        "#Criando um arrya que é mais eficiente e mais rápido que as estruturas de lista\n",
        "#Definindo linhas e colunas\n",
        "matriz = np.array([[1, 2, 3],[4, 5, 6]])\n",
        "#Cada [colchete] determina o número de linhas e cada elementos contido\n",
        "#dentro dos [colchetes] determinam a quantidade de colunas como no exemplo acima\n",
        "print(matriz)\n",
        "#Observer que a matriz aqui tem duas linhas e três colunas\n",
        "#[[1,2,3] linhas na horizontal\n",
        "# [4,5,6]] colunas na vertical"
      ],
      "metadata": {
        "colab": {
          "base_uri": "https://localhost:8080/"
        },
        "id": "kY98q29ilNjE",
        "outputId": "a6347d5f-6a33-4a68-ea1a-efa30a34bcfb"
      },
      "execution_count": 4,
      "outputs": [
        {
          "output_type": "stream",
          "name": "stdout",
          "text": [
            "[[1 2 3]\n",
            " [4 5 6]]\n"
          ]
        }
      ]
    },
    {
      "cell_type": "code",
      "source": [
        "#Visualizando o formato da matriz usando o comando shape\n",
        "matriz.shape\n",
        "#Aqui ele diz a quantidade de linhas (primeiro termo) e a quantidade de colunas (segundo termo)"
      ],
      "metadata": {
        "colab": {
          "base_uri": "https://localhost:8080/"
        },
        "id": "BhfxRNW5m9qo",
        "outputId": "46738951-46c6-42cb-cd0a-f826951a0a53"
      },
      "execution_count": 5,
      "outputs": [
        {
          "output_type": "execute_result",
          "data": {
            "text/plain": [
              "(2, 3)"
            ]
          },
          "metadata": {},
          "execution_count": 5
        }
      ]
    },
    {
      "cell_type": "code",
      "source": [
        "#Tampbém podemos acessar a posição de uma matriz pelas LINHAS\n",
        "matriz[0]"
      ],
      "metadata": {
        "colab": {
          "base_uri": "https://localhost:8080/"
        },
        "id": "DPeC1IWSnZjD",
        "outputId": "e00a7e1d-8ce1-4fe9-8b2c-964191a7891e"
      },
      "execution_count": 6,
      "outputs": [
        {
          "output_type": "execute_result",
          "data": {
            "text/plain": [
              "array([1, 2, 3])"
            ]
          },
          "metadata": {},
          "execution_count": 6
        }
      ]
    },
    {
      "cell_type": "code",
      "source": [
        "matriz[1]"
      ],
      "metadata": {
        "colab": {
          "base_uri": "https://localhost:8080/"
        },
        "id": "M2yQQh-2nh9R",
        "outputId": "d1b5e371-cedd-47ec-e75d-67fa155db7cf"
      },
      "execution_count": 7,
      "outputs": [
        {
          "output_type": "execute_result",
          "data": {
            "text/plain": [
              "array([4, 5, 6])"
            ]
          },
          "metadata": {},
          "execution_count": 7
        }
      ]
    },
    {
      "cell_type": "code",
      "source": [
        "#não é possível acessar uma posição que não existe\n",
        "matriz[2]\n",
        "# o índice 2 está fora dos limites do eixo 0 com tamanho 2"
      ],
      "metadata": {
        "colab": {
          "base_uri": "https://localhost:8080/",
          "height": 201
        },
        "id": "qRwST0L8nnyk",
        "outputId": "0fbffaeb-36ab-4d97-c784-95bb3a1d91fd"
      },
      "execution_count": 8,
      "outputs": [
        {
          "output_type": "error",
          "ename": "IndexError",
          "evalue": "ignored",
          "traceback": [
            "\u001b[0;31m---------------------------------------------------------------------------\u001b[0m",
            "\u001b[0;31mIndexError\u001b[0m                                Traceback (most recent call last)",
            "\u001b[0;32m<ipython-input-8-0caea131123f>\u001b[0m in \u001b[0;36m<module>\u001b[0;34m()\u001b[0m\n\u001b[1;32m      1\u001b[0m \u001b[0;31m#não é possível acessar uma posição que não existe\u001b[0m\u001b[0;34m\u001b[0m\u001b[0;34m\u001b[0m\u001b[0;34m\u001b[0m\u001b[0m\n\u001b[0;32m----> 2\u001b[0;31m \u001b[0mmatriz\u001b[0m\u001b[0;34m[\u001b[0m\u001b[0;36m2\u001b[0m\u001b[0;34m]\u001b[0m\u001b[0;34m\u001b[0m\u001b[0;34m\u001b[0m\u001b[0m\n\u001b[0m\u001b[1;32m      3\u001b[0m \u001b[0;31m# o índice 2 está fora dos limites do eixo 0 com tamanho 2\u001b[0m\u001b[0;34m\u001b[0m\u001b[0;34m\u001b[0m\u001b[0;34m\u001b[0m\u001b[0m\n",
            "\u001b[0;31mIndexError\u001b[0m: index 2 is out of bounds for axis 0 with size 2"
          ]
        }
      ]
    },
    {
      "cell_type": "code",
      "source": [
        "#Tampbém podemos acessar a posição de uma matriz pelas COLUNAS, para isso usamos dois colchetes\n",
        "matriz[0][0]"
      ],
      "metadata": {
        "colab": {
          "base_uri": "https://localhost:8080/"
        },
        "id": "wpDwuedboFkn",
        "outputId": "2823d56d-a84a-4171-eb0d-216d9b22a36b"
      },
      "execution_count": 9,
      "outputs": [
        {
          "output_type": "execute_result",
          "data": {
            "text/plain": [
              "1"
            ]
          },
          "metadata": {},
          "execution_count": 9
        }
      ]
    },
    {
      "cell_type": "code",
      "source": [
        "matriz[0][1]"
      ],
      "metadata": {
        "colab": {
          "base_uri": "https://localhost:8080/"
        },
        "id": "lfhvisweobud",
        "outputId": "eeb3ac1c-32f6-4ec0-faa3-6a4e24354745"
      },
      "execution_count": 10,
      "outputs": [
        {
          "output_type": "execute_result",
          "data": {
            "text/plain": [
              "2"
            ]
          },
          "metadata": {},
          "execution_count": 10
        }
      ]
    },
    {
      "cell_type": "code",
      "source": [
        "matriz[0][2]"
      ],
      "metadata": {
        "colab": {
          "base_uri": "https://localhost:8080/"
        },
        "id": "vUy3HtKmob5B",
        "outputId": "7af17623-1a4e-4a80-f77d-a9d79e6614d4"
      },
      "execution_count": 11,
      "outputs": [
        {
          "output_type": "execute_result",
          "data": {
            "text/plain": [
              "3"
            ]
          },
          "metadata": {},
          "execution_count": 11
        }
      ]
    },
    {
      "cell_type": "code",
      "source": [
        "matriz[1][0]"
      ],
      "metadata": {
        "colab": {
          "base_uri": "https://localhost:8080/"
        },
        "id": "wDOfjq58ocCA",
        "outputId": "2fab8ac7-631d-41eb-ea03-6ac88ffb25f7"
      },
      "execution_count": 12,
      "outputs": [
        {
          "output_type": "execute_result",
          "data": {
            "text/plain": [
              "4"
            ]
          },
          "metadata": {},
          "execution_count": 12
        }
      ]
    },
    {
      "cell_type": "code",
      "source": [
        "matriz[1][1]"
      ],
      "metadata": {
        "colab": {
          "base_uri": "https://localhost:8080/"
        },
        "id": "Jk1VgldOocLZ",
        "outputId": "caf3cae2-8da6-49f6-d9c3-ebde10a98580"
      },
      "execution_count": 13,
      "outputs": [
        {
          "output_type": "execute_result",
          "data": {
            "text/plain": [
              "5"
            ]
          },
          "metadata": {},
          "execution_count": 13
        }
      ]
    },
    {
      "cell_type": "code",
      "source": [
        "matriz[1][2]"
      ],
      "metadata": {
        "colab": {
          "base_uri": "https://localhost:8080/"
        },
        "id": "Kzy5FU_qocUw",
        "outputId": "1faaee85-88a2-470c-96cb-a027e3d402ea"
      },
      "execution_count": 14,
      "outputs": [
        {
          "output_type": "execute_result",
          "data": {
            "text/plain": [
              "6"
            ]
          },
          "metadata": {},
          "execution_count": 14
        }
      ]
    },
    {
      "cell_type": "code",
      "source": [
        "#Para percorrer todos os elementos de uma matriz, para fazermos um calculo por ex.\n",
        "#Nesse exemplo vamos percorrer apenas as linhas, por isso o valor da posição em\n",
        "#matriz.shape[] é 0\n",
        "for i in range(matriz.shape[0]):\n",
        "  print(matriz[i])\n",
        "#Percorrendo agora as colunas usando um for aninhado\n",
        "  for j in range(matriz.shape[1]):\n",
        "    print(matriz[i][j])"
      ],
      "metadata": {
        "colab": {
          "base_uri": "https://localhost:8080/"
        },
        "id": "lpmQmSGqo6fM",
        "outputId": "7b59725f-9163-4ce8-ae1e-56c85ed54d05"
      },
      "execution_count": 15,
      "outputs": [
        {
          "output_type": "stream",
          "name": "stdout",
          "text": [
            "[1 2 3]\n",
            "1\n",
            "2\n",
            "3\n",
            "[4 5 6]\n",
            "4\n",
            "5\n",
            "6\n"
          ]
        }
      ]
    },
    {
      "cell_type": "code",
      "source": [
        "matriz2 = np.array([[2, 5 ,4],[6, 8, 9]])\n",
        "print(matriz2)\n"
      ],
      "metadata": {
        "colab": {
          "base_uri": "https://localhost:8080/"
        },
        "id": "aYIWH2_iUkEM",
        "outputId": "5ccfb725-9989-408f-a861-843c915ef8b6"
      },
      "execution_count": 22,
      "outputs": [
        {
          "output_type": "stream",
          "name": "stdout",
          "text": [
            "[[2 5 4]\n",
            " [6 8 9]]\n"
          ]
        }
      ]
    },
    {
      "cell_type": "code",
      "source": [
        "matriz3 = matriz + matriz2\n",
        "print(matriz3)"
      ],
      "metadata": {
        "colab": {
          "base_uri": "https://localhost:8080/"
        },
        "id": "6dDdQNnrX7dX",
        "outputId": "7dd7c999-1ef7-432b-8d65-d6459933c4d6"
      },
      "execution_count": 27,
      "outputs": [
        {
          "output_type": "stream",
          "name": "stdout",
          "text": [
            "[[ 3  7  7]\n",
            " [10 13 15]]\n"
          ]
        }
      ]
    },
    {
      "cell_type": "code",
      "source": [
        "matriz3 = matriz - matriz2\n",
        "print(matriz3)"
      ],
      "metadata": {
        "colab": {
          "base_uri": "https://localhost:8080/"
        },
        "id": "rOA7f5DNYXsE",
        "outputId": "8ffbfcd3-2e91-49f5-d1c6-03bb95ba3c77"
      },
      "execution_count": 28,
      "outputs": [
        {
          "output_type": "stream",
          "name": "stdout",
          "text": [
            "[[-1 -3 -1]\n",
            " [-2 -3 -3]]\n"
          ]
        }
      ]
    },
    {
      "cell_type": "code",
      "source": [
        "matriz3 = matriz * matriz2\n",
        "print(matriz3)"
      ],
      "metadata": {
        "colab": {
          "base_uri": "https://localhost:8080/"
        },
        "id": "OEaVtvCpYYwY",
        "outputId": "d231c0c1-e8c8-4ea7-d154-0b13f81a32b5"
      },
      "execution_count": 29,
      "outputs": [
        {
          "output_type": "stream",
          "name": "stdout",
          "text": [
            "[[ 2 10 12]\n",
            " [24 40 54]]\n"
          ]
        }
      ]
    },
    {
      "cell_type": "code",
      "source": [
        "matriz3 = matriz ** matriz2\n",
        "print(matriz3)"
      ],
      "metadata": {
        "colab": {
          "base_uri": "https://localhost:8080/"
        },
        "id": "lveVxOM-YZbS",
        "outputId": "a1811fa9-b027-474a-b448-8a4df2e0c7f2"
      },
      "execution_count": 30,
      "outputs": [
        {
          "output_type": "stream",
          "name": "stdout",
          "text": [
            "[[       1       32       81]\n",
            " [    4096   390625 10077696]]\n"
          ]
        }
      ]
    },
    {
      "cell_type": "code",
      "source": [
        "matriz3 = matriz / matriz2\n",
        "print(matriz3)"
      ],
      "metadata": {
        "colab": {
          "base_uri": "https://localhost:8080/"
        },
        "id": "P7AC_z5KYhUi",
        "outputId": "36b9070b-c357-4c21-c7f5-83cbb67b47df"
      },
      "execution_count": 31,
      "outputs": [
        {
          "output_type": "stream",
          "name": "stdout",
          "text": [
            "[[0.5        0.4        0.75      ]\n",
            " [0.66666667 0.625      0.66666667]]\n"
          ]
        }
      ]
    }
  ]
}